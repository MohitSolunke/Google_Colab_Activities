{
  "nbformat": 4,
  "nbformat_minor": 0,
  "metadata": {
    "colab": {
      "provenance": [],
      "mount_file_id": "1KTdt63ruMBpLcCYYw7v5AtFKD5D0X3cD",
      "authorship_tag": "ABX9TyPOM5eDJFa8JkbUgZLEs3go",
      "include_colab_link": true
    },
    "kernelspec": {
      "name": "python3",
      "display_name": "Python 3"
    },
    "language_info": {
      "name": "python"
    }
  },
  "cells": [
    {
      "cell_type": "markdown",
      "metadata": {
        "id": "view-in-github",
        "colab_type": "text"
      },
      "source": [
        "<a href=\"https://colab.research.google.com/github/MohitSolunke/Google_Colab_Activities/blob/main/Spaek_ML_With_DT_%26_Naive_Bayes.ipynb\" target=\"_parent\"><img src=\"https://colab.research.google.com/assets/colab-badge.svg\" alt=\"Open In Colab\"/></a>"
      ]
    },
    {
      "cell_type": "code",
      "execution_count": null,
      "metadata": {
        "colab": {
          "base_uri": "https://localhost:8080/"
        },
        "id": "nS4dgGRGh9-A",
        "outputId": "591a367d-0cf8-4fb3-a65d-6ca182645461",
        "collapsed": true
      },
      "outputs": [
        {
          "output_type": "stream",
          "name": "stdout",
          "text": [
            "Collecting ucimlrepo\n",
            "  Downloading ucimlrepo-0.0.7-py3-none-any.whl.metadata (5.5 kB)\n",
            "Requirement already satisfied: pandas>=1.0.0 in /usr/local/lib/python3.10/dist-packages (from ucimlrepo) (2.1.4)\n",
            "Requirement already satisfied: certifi>=2020.12.5 in /usr/local/lib/python3.10/dist-packages (from ucimlrepo) (2024.8.30)\n",
            "Requirement already satisfied: numpy<2,>=1.22.4 in /usr/local/lib/python3.10/dist-packages (from pandas>=1.0.0->ucimlrepo) (1.26.4)\n",
            "Requirement already satisfied: python-dateutil>=2.8.2 in /usr/local/lib/python3.10/dist-packages (from pandas>=1.0.0->ucimlrepo) (2.8.2)\n",
            "Requirement already satisfied: pytz>=2020.1 in /usr/local/lib/python3.10/dist-packages (from pandas>=1.0.0->ucimlrepo) (2024.2)\n",
            "Requirement already satisfied: tzdata>=2022.1 in /usr/local/lib/python3.10/dist-packages (from pandas>=1.0.0->ucimlrepo) (2024.1)\n",
            "Requirement already satisfied: six>=1.5 in /usr/local/lib/python3.10/dist-packages (from python-dateutil>=2.8.2->pandas>=1.0.0->ucimlrepo) (1.16.0)\n",
            "Downloading ucimlrepo-0.0.7-py3-none-any.whl (8.0 kB)\n",
            "Installing collected packages: ucimlrepo\n",
            "Successfully installed ucimlrepo-0.0.7\n"
          ]
        }
      ],
      "source": [
        "pip install ucimlrepo"
      ]
    },
    {
      "cell_type": "code",
      "source": [
        "from ucimlrepo import fetch_ucirepo\n",
        "\n",
        "# fetch dataset\n",
        "adult = fetch_ucirepo(id=2)\n",
        "\n",
        "# data (as pandas dataframes)\n",
        "X = adult.data.features\n",
        "y = adult.data.targets\n",
        "\n",
        "# metadata\n",
        "print(adult.metadata)\n",
        "\n",
        "# variable information\n",
        "print(adult.variables)\n"
      ],
      "metadata": {
        "colab": {
          "base_uri": "https://localhost:8080/"
        },
        "id": "rdhvzDfGiH11",
        "outputId": "a17fe716-45a6-4c1f-e63a-b9e60e67dc35",
        "collapsed": true
      },
      "execution_count": null,
      "outputs": [
        {
          "output_type": "stream",
          "name": "stdout",
          "text": [
            "{'uci_id': 2, 'name': 'Adult', 'repository_url': 'https://archive.ics.uci.edu/dataset/2/adult', 'data_url': 'https://archive.ics.uci.edu/static/public/2/data.csv', 'abstract': 'Predict whether income exceeds $50K/yr based on census data. Also known as \"Census Income\" dataset. ', 'area': 'Social Science', 'tasks': ['Classification'], 'characteristics': ['Multivariate'], 'num_instances': 48842, 'num_features': 14, 'feature_types': ['Categorical', 'Integer'], 'demographics': ['Age', 'Income', 'Education Level', 'Other', 'Race', 'Sex'], 'target_col': ['income'], 'index_col': None, 'has_missing_values': 'yes', 'missing_values_symbol': 'NaN', 'year_of_dataset_creation': 1996, 'last_updated': 'Mon Sep 09 2024', 'dataset_doi': '10.24432/C5XW20', 'creators': ['Barry Becker', 'Ronny Kohavi'], 'intro_paper': None, 'additional_info': {'summary': 'Extraction was done by Barry Becker from the 1994 Census database.  A set of reasonably clean records was extracted using the following conditions: ((AAGE>16) && (AGI>100) && (AFNLWGT>1)&& (HRSWK>0))\\r\\n\\r\\nPrediction task is to determine whether a person makes over 50K a year.\\r\\n', 'purpose': None, 'funded_by': None, 'instances_represent': None, 'recommended_data_splits': None, 'sensitive_data': None, 'preprocessing_description': None, 'variable_info': 'Listing of attributes:\\r\\n\\r\\n>50K, <=50K.\\r\\n\\r\\nage: continuous.\\r\\nworkclass: Private, Self-emp-not-inc, Self-emp-inc, Federal-gov, Local-gov, State-gov, Without-pay, Never-worked.\\r\\nfnlwgt: continuous.\\r\\neducation: Bachelors, Some-college, 11th, HS-grad, Prof-school, Assoc-acdm, Assoc-voc, 9th, 7th-8th, 12th, Masters, 1st-4th, 10th, Doctorate, 5th-6th, Preschool.\\r\\neducation-num: continuous.\\r\\nmarital-status: Married-civ-spouse, Divorced, Never-married, Separated, Widowed, Married-spouse-absent, Married-AF-spouse.\\r\\noccupation: Tech-support, Craft-repair, Other-service, Sales, Exec-managerial, Prof-specialty, Handlers-cleaners, Machine-op-inspct, Adm-clerical, Farming-fishing, Transport-moving, Priv-house-serv, Protective-serv, Armed-Forces.\\r\\nrelationship: Wife, Own-child, Husband, Not-in-family, Other-relative, Unmarried.\\r\\nrace: White, Asian-Pac-Islander, Amer-Indian-Eskimo, Other, Black.\\r\\nsex: Female, Male.\\r\\ncapital-gain: continuous.\\r\\ncapital-loss: continuous.\\r\\nhours-per-week: continuous.\\r\\nnative-country: United-States, Cambodia, England, Puerto-Rico, Canada, Germany, Outlying-US(Guam-USVI-etc), India, Japan, Greece, South, China, Cuba, Iran, Honduras, Philippines, Italy, Poland, Jamaica, Vietnam, Mexico, Portugal, Ireland, France, Dominican-Republic, Laos, Ecuador, Taiwan, Haiti, Columbia, Hungary, Guatemala, Nicaragua, Scotland, Thailand, Yugoslavia, El-Salvador, Trinadad&Tobago, Peru, Hong, Holand-Netherlands.', 'citation': None}}\n",
            "              name     role         type      demographic  \\\n",
            "0              age  Feature      Integer              Age   \n",
            "1        workclass  Feature  Categorical           Income   \n",
            "2           fnlwgt  Feature      Integer             None   \n",
            "3        education  Feature  Categorical  Education Level   \n",
            "4    education-num  Feature      Integer  Education Level   \n",
            "5   marital-status  Feature  Categorical            Other   \n",
            "6       occupation  Feature  Categorical            Other   \n",
            "7     relationship  Feature  Categorical            Other   \n",
            "8             race  Feature  Categorical             Race   \n",
            "9              sex  Feature       Binary              Sex   \n",
            "10    capital-gain  Feature      Integer             None   \n",
            "11    capital-loss  Feature      Integer             None   \n",
            "12  hours-per-week  Feature      Integer             None   \n",
            "13  native-country  Feature  Categorical            Other   \n",
            "14          income   Target       Binary           Income   \n",
            "\n",
            "                                          description units missing_values  \n",
            "0                                                 N/A  None             no  \n",
            "1   Private, Self-emp-not-inc, Self-emp-inc, Feder...  None            yes  \n",
            "2                                                None  None             no  \n",
            "3    Bachelors, Some-college, 11th, HS-grad, Prof-...  None             no  \n",
            "4                                                None  None             no  \n",
            "5   Married-civ-spouse, Divorced, Never-married, S...  None             no  \n",
            "6   Tech-support, Craft-repair, Other-service, Sal...  None            yes  \n",
            "7   Wife, Own-child, Husband, Not-in-family, Other...  None             no  \n",
            "8   White, Asian-Pac-Islander, Amer-Indian-Eskimo,...  None             no  \n",
            "9                                       Female, Male.  None             no  \n",
            "10                                               None  None             no  \n",
            "11                                               None  None             no  \n",
            "12                                               None  None             no  \n",
            "13  United-States, Cambodia, England, Puerto-Rico,...  None            yes  \n",
            "14                                       >50K, <=50K.  None             no  \n"
          ]
        }
      ]
    },
    {
      "cell_type": "code",
      "source": [
        "pip install pyspark"
      ],
      "metadata": {
        "colab": {
          "base_uri": "https://localhost:8080/"
        },
        "id": "Du0Og2BKiJ0r",
        "outputId": "d040c33d-9626-4dc6-ea73-d184207e674b",
        "collapsed": true
      },
      "execution_count": null,
      "outputs": [
        {
          "output_type": "stream",
          "name": "stdout",
          "text": [
            "Collecting pyspark\n",
            "  Downloading pyspark-3.5.2.tar.gz (317.3 MB)\n",
            "\u001b[2K     \u001b[90m━━━━━━━━━━━━━━━━━━━━━━━━━━━━━━━━━━━━━━━━\u001b[0m \u001b[32m317.3/317.3 MB\u001b[0m \u001b[31m4.6 MB/s\u001b[0m eta \u001b[36m0:00:00\u001b[0m\n",
            "\u001b[?25h  Preparing metadata (setup.py) ... \u001b[?25l\u001b[?25hdone\n",
            "Requirement already satisfied: py4j==0.10.9.7 in /usr/local/lib/python3.10/dist-packages (from pyspark) (0.10.9.7)\n",
            "Building wheels for collected packages: pyspark\n",
            "  Building wheel for pyspark (setup.py) ... \u001b[?25l\u001b[?25hdone\n",
            "  Created wheel for pyspark: filename=pyspark-3.5.2-py2.py3-none-any.whl size=317812365 sha256=5a593f3df04efb24b518758378c9d6696ed2b4974a2c17b3540a5fa2e1e5360e\n",
            "  Stored in directory: /root/.cache/pip/wheels/34/34/bd/03944534c44b677cd5859f248090daa9fb27b3c8f8e5f49574\n",
            "Successfully built pyspark\n",
            "Installing collected packages: pyspark\n",
            "Successfully installed pyspark-3.5.2\n"
          ]
        }
      ]
    },
    {
      "cell_type": "code",
      "source": [
        "import pyspark\n",
        "from pyspark.sql import SparkSession\n",
        "spark = SparkSession.builder.appName('adult').getOrCreate()"
      ],
      "metadata": {
        "id": "uZ5YUj-2ia0p"
      },
      "execution_count": null,
      "outputs": []
    },
    {
      "cell_type": "code",
      "source": [
        "data = spark.read.csv('/content/adult.data', header=True, inferSchema=True)"
      ],
      "metadata": {
        "id": "XqwOrj0Fil1E"
      },
      "execution_count": null,
      "outputs": []
    },
    {
      "cell_type": "code",
      "source": [
        "data.show()"
      ],
      "metadata": {
        "colab": {
          "base_uri": "https://localhost:8080/"
        },
        "id": "8HtfQPBTjF6b",
        "outputId": "b017e47c-62e9-4f5a-ef69-a3ffb7885de1"
      },
      "execution_count": null,
      "outputs": [
        {
          "output_type": "stream",
          "name": "stdout",
          "text": [
            "+---+-----------------+--------+-------------+----+--------------------+------------------+--------------+-------------------+-------+-------+---+----+--------------+------+\n",
            "| 39|        State-gov|   77516|    Bachelors|  13|       Never-married|      Adm-clerical| Not-in-family|              White|   Male|   2174|  0|  40| United-States| <=50K|\n",
            "+---+-----------------+--------+-------------+----+--------------------+------------------+--------------+-------------------+-------+-------+---+----+--------------+------+\n",
            "| 50| Self-emp-not-inc| 83311.0|    Bachelors|13.0|  Married-civ-spouse|   Exec-managerial|       Husband|              White|   Male|    0.0|0.0|13.0| United-States| <=50K|\n",
            "| 38|          Private|215646.0|      HS-grad| 9.0|            Divorced| Handlers-cleaners| Not-in-family|              White|   Male|    0.0|0.0|40.0| United-States| <=50K|\n",
            "| 53|          Private|234721.0|         11th| 7.0|  Married-civ-spouse| Handlers-cleaners|       Husband|              Black|   Male|    0.0|0.0|40.0| United-States| <=50K|\n",
            "| 28|          Private|338409.0|    Bachelors|13.0|  Married-civ-spouse|    Prof-specialty|          Wife|              Black| Female|    0.0|0.0|40.0|          Cuba| <=50K|\n",
            "| 37|          Private|284582.0|      Masters|14.0|  Married-civ-spouse|   Exec-managerial|          Wife|              White| Female|    0.0|0.0|40.0| United-States| <=50K|\n",
            "| 49|          Private|160187.0|          9th| 5.0| Married-spouse-a...|     Other-service| Not-in-family|              Black| Female|    0.0|0.0|16.0|       Jamaica| <=50K|\n",
            "| 52| Self-emp-not-inc|209642.0|      HS-grad| 9.0|  Married-civ-spouse|   Exec-managerial|       Husband|              White|   Male|    0.0|0.0|45.0| United-States|  >50K|\n",
            "| 31|          Private| 45781.0|      Masters|14.0|       Never-married|    Prof-specialty| Not-in-family|              White| Female|14084.0|0.0|50.0| United-States|  >50K|\n",
            "| 42|          Private|159449.0|    Bachelors|13.0|  Married-civ-spouse|   Exec-managerial|       Husband|              White|   Male| 5178.0|0.0|40.0| United-States|  >50K|\n",
            "| 37|          Private|280464.0| Some-college|10.0|  Married-civ-spouse|   Exec-managerial|       Husband|              Black|   Male|    0.0|0.0|80.0| United-States|  >50K|\n",
            "| 30|        State-gov|141297.0|    Bachelors|13.0|  Married-civ-spouse|    Prof-specialty|       Husband| Asian-Pac-Islander|   Male|    0.0|0.0|40.0|         India|  >50K|\n",
            "| 23|          Private|122272.0|    Bachelors|13.0|       Never-married|      Adm-clerical|     Own-child|              White| Female|    0.0|0.0|30.0| United-States| <=50K|\n",
            "| 32|          Private|205019.0|   Assoc-acdm|12.0|       Never-married|             Sales| Not-in-family|              Black|   Male|    0.0|0.0|50.0| United-States| <=50K|\n",
            "| 40|          Private|121772.0|    Assoc-voc|11.0|  Married-civ-spouse|      Craft-repair|       Husband| Asian-Pac-Islander|   Male|    0.0|0.0|40.0|             ?|  >50K|\n",
            "| 34|          Private|245487.0|      7th-8th| 4.0|  Married-civ-spouse|  Transport-moving|       Husband| Amer-Indian-Eskimo|   Male|    0.0|0.0|45.0|        Mexico| <=50K|\n",
            "| 25| Self-emp-not-inc|176756.0|      HS-grad| 9.0|       Never-married|   Farming-fishing|     Own-child|              White|   Male|    0.0|0.0|35.0| United-States| <=50K|\n",
            "| 32|          Private|186824.0|      HS-grad| 9.0|       Never-married| Machine-op-inspct|     Unmarried|              White|   Male|    0.0|0.0|40.0| United-States| <=50K|\n",
            "| 38|          Private| 28887.0|         11th| 7.0|  Married-civ-spouse|             Sales|       Husband|              White|   Male|    0.0|0.0|50.0| United-States| <=50K|\n",
            "| 43| Self-emp-not-inc|292175.0|      Masters|14.0|            Divorced|   Exec-managerial|     Unmarried|              White| Female|    0.0|0.0|45.0| United-States|  >50K|\n",
            "| 40|          Private|193524.0|    Doctorate|16.0|  Married-civ-spouse|    Prof-specialty|       Husband|              White|   Male|    0.0|0.0|60.0| United-States|  >50K|\n",
            "+---+-----------------+--------+-------------+----+--------------------+------------------+--------------+-------------------+-------+-------+---+----+--------------+------+\n",
            "only showing top 20 rows\n",
            "\n"
          ]
        }
      ]
    },
    {
      "cell_type": "code",
      "source": [
        "labels = ['age','workclass','fnlwgt','education','numbers','marital','occupation','relation','race','gender','gain','loss','hourlypay','country','income']"
      ],
      "metadata": {
        "id": "x2B_Git8jI4q"
      },
      "execution_count": null,
      "outputs": []
    },
    {
      "cell_type": "code",
      "source": [
        "df = data.toDF(*labels)\n",
        "df.show()"
      ],
      "metadata": {
        "colab": {
          "base_uri": "https://localhost:8080/"
        },
        "id": "ZBrovmJVjx7W",
        "outputId": "0e23cc58-5609-447a-f1db-1d26d006056c"
      },
      "execution_count": null,
      "outputs": [
        {
          "output_type": "stream",
          "name": "stdout",
          "text": [
            "+---+-----------------+--------+-------------+-------+--------------------+------------------+--------------+-------------------+-------+-------+----+---------+--------------+------+\n",
            "|age|        workclass|  fnlwgt|    education|numbers|             marital|        occupation|      relation|               race| gender|   gain|loss|hourlypay|       country|income|\n",
            "+---+-----------------+--------+-------------+-------+--------------------+------------------+--------------+-------------------+-------+-------+----+---------+--------------+------+\n",
            "| 50| Self-emp-not-inc| 83311.0|    Bachelors|   13.0|  Married-civ-spouse|   Exec-managerial|       Husband|              White|   Male|    0.0| 0.0|     13.0| United-States| <=50K|\n",
            "| 38|          Private|215646.0|      HS-grad|    9.0|            Divorced| Handlers-cleaners| Not-in-family|              White|   Male|    0.0| 0.0|     40.0| United-States| <=50K|\n",
            "| 53|          Private|234721.0|         11th|    7.0|  Married-civ-spouse| Handlers-cleaners|       Husband|              Black|   Male|    0.0| 0.0|     40.0| United-States| <=50K|\n",
            "| 28|          Private|338409.0|    Bachelors|   13.0|  Married-civ-spouse|    Prof-specialty|          Wife|              Black| Female|    0.0| 0.0|     40.0|          Cuba| <=50K|\n",
            "| 37|          Private|284582.0|      Masters|   14.0|  Married-civ-spouse|   Exec-managerial|          Wife|              White| Female|    0.0| 0.0|     40.0| United-States| <=50K|\n",
            "| 49|          Private|160187.0|          9th|    5.0| Married-spouse-a...|     Other-service| Not-in-family|              Black| Female|    0.0| 0.0|     16.0|       Jamaica| <=50K|\n",
            "| 52| Self-emp-not-inc|209642.0|      HS-grad|    9.0|  Married-civ-spouse|   Exec-managerial|       Husband|              White|   Male|    0.0| 0.0|     45.0| United-States|  >50K|\n",
            "| 31|          Private| 45781.0|      Masters|   14.0|       Never-married|    Prof-specialty| Not-in-family|              White| Female|14084.0| 0.0|     50.0| United-States|  >50K|\n",
            "| 42|          Private|159449.0|    Bachelors|   13.0|  Married-civ-spouse|   Exec-managerial|       Husband|              White|   Male| 5178.0| 0.0|     40.0| United-States|  >50K|\n",
            "| 37|          Private|280464.0| Some-college|   10.0|  Married-civ-spouse|   Exec-managerial|       Husband|              Black|   Male|    0.0| 0.0|     80.0| United-States|  >50K|\n",
            "| 30|        State-gov|141297.0|    Bachelors|   13.0|  Married-civ-spouse|    Prof-specialty|       Husband| Asian-Pac-Islander|   Male|    0.0| 0.0|     40.0|         India|  >50K|\n",
            "| 23|          Private|122272.0|    Bachelors|   13.0|       Never-married|      Adm-clerical|     Own-child|              White| Female|    0.0| 0.0|     30.0| United-States| <=50K|\n",
            "| 32|          Private|205019.0|   Assoc-acdm|   12.0|       Never-married|             Sales| Not-in-family|              Black|   Male|    0.0| 0.0|     50.0| United-States| <=50K|\n",
            "| 40|          Private|121772.0|    Assoc-voc|   11.0|  Married-civ-spouse|      Craft-repair|       Husband| Asian-Pac-Islander|   Male|    0.0| 0.0|     40.0|             ?|  >50K|\n",
            "| 34|          Private|245487.0|      7th-8th|    4.0|  Married-civ-spouse|  Transport-moving|       Husband| Amer-Indian-Eskimo|   Male|    0.0| 0.0|     45.0|        Mexico| <=50K|\n",
            "| 25| Self-emp-not-inc|176756.0|      HS-grad|    9.0|       Never-married|   Farming-fishing|     Own-child|              White|   Male|    0.0| 0.0|     35.0| United-States| <=50K|\n",
            "| 32|          Private|186824.0|      HS-grad|    9.0|       Never-married| Machine-op-inspct|     Unmarried|              White|   Male|    0.0| 0.0|     40.0| United-States| <=50K|\n",
            "| 38|          Private| 28887.0|         11th|    7.0|  Married-civ-spouse|             Sales|       Husband|              White|   Male|    0.0| 0.0|     50.0| United-States| <=50K|\n",
            "| 43| Self-emp-not-inc|292175.0|      Masters|   14.0|            Divorced|   Exec-managerial|     Unmarried|              White| Female|    0.0| 0.0|     45.0| United-States|  >50K|\n",
            "| 40|          Private|193524.0|    Doctorate|   16.0|  Married-civ-spouse|    Prof-specialty|       Husband|              White|   Male|    0.0| 0.0|     60.0| United-States|  >50K|\n",
            "+---+-----------------+--------+-------------+-------+--------------------+------------------+--------------+-------------------+-------+-------+----+---------+--------------+------+\n",
            "only showing top 20 rows\n",
            "\n"
          ]
        }
      ]
    },
    {
      "cell_type": "code",
      "source": [
        "# Checking for the corret datatype for each column\n",
        "df.printSchema()"
      ],
      "metadata": {
        "colab": {
          "base_uri": "https://localhost:8080/"
        },
        "id": "zRmdY4tVj9sT",
        "outputId": "17966c52-2e2e-4fdc-c73d-6a25ec0ca24b"
      },
      "execution_count": null,
      "outputs": [
        {
          "output_type": "stream",
          "name": "stdout",
          "text": [
            "root\n",
            " |-- age: integer (nullable = true)\n",
            " |-- workclass: string (nullable = true)\n",
            " |-- fnlwgt: double (nullable = true)\n",
            " |-- education: string (nullable = true)\n",
            " |-- numbers: double (nullable = true)\n",
            " |-- marital: string (nullable = true)\n",
            " |-- occupation: string (nullable = true)\n",
            " |-- relation: string (nullable = true)\n",
            " |-- race: string (nullable = true)\n",
            " |-- gender: string (nullable = true)\n",
            " |-- gain: double (nullable = true)\n",
            " |-- loss: double (nullable = true)\n",
            " |-- hourlypay: double (nullable = true)\n",
            " |-- country: string (nullable = true)\n",
            " |-- income: string (nullable = true)\n",
            "\n"
          ]
        }
      ]
    },
    {
      "cell_type": "code",
      "source": [
        "# Convert the some given feature in correct datatype\n",
        "from pyspark.sql.functions import col\n",
        "for i in ['age','fnlwgt','numbers','gain','loss','hourlypay']:\n",
        "  new_df = df.withColumn(i, col(i).cast('integer'))"
      ],
      "metadata": {
        "id": "bGhJNcYpkjT6"
      },
      "execution_count": null,
      "outputs": []
    },
    {
      "cell_type": "code",
      "source": [
        "new_df.printSchema()"
      ],
      "metadata": {
        "colab": {
          "base_uri": "https://localhost:8080/"
        },
        "id": "2xFlL3bElqO0",
        "outputId": "258bc4d7-88be-4e23-bba1-a1d8aa290adc"
      },
      "execution_count": null,
      "outputs": [
        {
          "output_type": "stream",
          "name": "stdout",
          "text": [
            "root\n",
            " |-- age: integer (nullable = true)\n",
            " |-- workclass: string (nullable = true)\n",
            " |-- fnlwgt: double (nullable = true)\n",
            " |-- education: string (nullable = true)\n",
            " |-- numbers: double (nullable = true)\n",
            " |-- marital: string (nullable = true)\n",
            " |-- occupation: string (nullable = true)\n",
            " |-- relation: string (nullable = true)\n",
            " |-- race: string (nullable = true)\n",
            " |-- gender: string (nullable = true)\n",
            " |-- gain: double (nullable = true)\n",
            " |-- loss: double (nullable = true)\n",
            " |-- hourlypay: integer (nullable = true)\n",
            " |-- country: string (nullable = true)\n",
            " |-- income: string (nullable = true)\n",
            "\n"
          ]
        }
      ]
    },
    {
      "cell_type": "code",
      "source": [
        "# Now Check for the NULL Values\n",
        "from pyspark.sql.functions import *\n",
        "\n",
        "new_df.select([count(when(col(c).isNull(), c)).alias(c) for c in new_df.columns]).show()"
      ],
      "metadata": {
        "colab": {
          "base_uri": "https://localhost:8080/"
        },
        "id": "a-HK30Jjlrbn",
        "outputId": "a0f01830-9347-4606-fe28-9f48ca389b50"
      },
      "execution_count": null,
      "outputs": [
        {
          "output_type": "stream",
          "name": "stdout",
          "text": [
            "+---+---------+------+---------+-------+-------+----------+--------+----+------+----+----+---------+-------+------+\n",
            "|age|workclass|fnlwgt|education|numbers|marital|occupation|relation|race|gender|gain|loss|hourlypay|country|income|\n",
            "+---+---------+------+---------+-------+-------+----------+--------+----+------+----+----+---------+-------+------+\n",
            "|  0|        0|     0|        0|      0|      0|         0|       0|   0|     0|   0|   0|        0|      0|     0|\n",
            "+---+---------+------+---------+-------+-------+----------+--------+----+------+----+----+---------+-------+------+\n",
            "\n"
          ]
        }
      ]
    },
    {
      "cell_type": "code",
      "source": [
        "# Check for different values of columns\n",
        "df.select('workclass').distinct().show()"
      ],
      "metadata": {
        "colab": {
          "base_uri": "https://localhost:8080/"
        },
        "id": "zU1ce3P6nGES",
        "outputId": "06aa260d-1458-47e3-f915-3399c9d524c5"
      },
      "execution_count": null,
      "outputs": [
        {
          "output_type": "stream",
          "name": "stdout",
          "text": [
            "+-----------------+\n",
            "|        workclass|\n",
            "+-----------------+\n",
            "|        State-gov|\n",
            "|      Federal-gov|\n",
            "| Self-emp-not-inc|\n",
            "|        Local-gov|\n",
            "|          Private|\n",
            "|                ?|\n",
            "|     Self-emp-inc|\n",
            "|      Without-pay|\n",
            "|     Never-worked|\n",
            "+-----------------+\n",
            "\n"
          ]
        }
      ]
    },
    {
      "cell_type": "code",
      "source": [
        "# replace the unwanted value  with None\n",
        "df =new_df.replace(\"?\", None)"
      ],
      "metadata": {
        "id": "bmqb2ehOoAx4"
      },
      "execution_count": null,
      "outputs": []
    },
    {
      "cell_type": "code",
      "source": [
        "# Now Check for the NULL Values\n",
        "from pyspark.sql.functions import *\n",
        "\n",
        "df.select([count(when(col(c).isNull(), c)).alias(c) for c in new_df.columns]).show()"
      ],
      "metadata": {
        "colab": {
          "base_uri": "https://localhost:8080/"
        },
        "id": "5v-rQW3kGJE2",
        "outputId": "dea6ba0f-f305-42a7-8558-9825d8e0cdc5"
      },
      "execution_count": null,
      "outputs": [
        {
          "output_type": "stream",
          "name": "stdout",
          "text": [
            "+---+---------+------+---------+-------+-------+----------+--------+----+------+----+----+---------+-------+------+\n",
            "|age|workclass|fnlwgt|education|numbers|marital|occupation|relation|race|gender|gain|loss|hourlypay|country|income|\n",
            "+---+---------+------+---------+-------+-------+----------+--------+----+------+----+----+---------+-------+------+\n",
            "|  0|        0|     0|        0|      0|      0|         0|       0|   0|     0|   0|   0|        0|      0|     0|\n",
            "+---+---------+------+---------+-------+-------+----------+--------+----+------+----+----+---------+-------+------+\n",
            "\n"
          ]
        }
      ]
    },
    {
      "cell_type": "code",
      "source": [
        "df.groupby(\"country\").count().show()"
      ],
      "metadata": {
        "colab": {
          "base_uri": "https://localhost:8080/"
        },
        "id": "zx6-NF9hGlRl",
        "outputId": "4073e07e-984c-45f2-ba75-4077fd10ae51"
      },
      "execution_count": null,
      "outputs": [
        {
          "output_type": "stream",
          "name": "stdout",
          "text": [
            "+-------------------+-----+\n",
            "|            country|count|\n",
            "+-------------------+-----+\n",
            "| Dominican-Republic|   70|\n",
            "|            Ireland|   24|\n",
            "|               Cuba|   95|\n",
            "|          Guatemala|   64|\n",
            "|               Iran|   43|\n",
            "|             Taiwan|   51|\n",
            "|        El-Salvador|  106|\n",
            "|      United-States|29169|\n",
            "|              South|   80|\n",
            "|              Japan|   62|\n",
            "|          Nicaragua|   34|\n",
            "|             Canada|  121|\n",
            "|           Cambodia|   19|\n",
            "|               Laos|   18|\n",
            "|            Germany|  137|\n",
            "|    Trinadad&Tobago|   19|\n",
            "|               Peru|   31|\n",
            "|            Ecuador|   28|\n",
            "|         Yugoslavia|   16|\n",
            "|            Vietnam|   67|\n",
            "+-------------------+-----+\n",
            "only showing top 20 rows\n",
            "\n"
          ]
        }
      ]
    },
    {
      "cell_type": "code",
      "source": [
        "df = df.fillna(\"United-States\", subset = ['country'])\n"
      ],
      "metadata": {
        "id": "iSEG859jHFRk"
      },
      "execution_count": null,
      "outputs": []
    },
    {
      "cell_type": "code",
      "source": [
        "df = df.fillna(\"Private\", subset = ['workclass'])"
      ],
      "metadata": {
        "id": "qIuN_FoHHU5Z"
      },
      "execution_count": null,
      "outputs": []
    },
    {
      "cell_type": "code",
      "source": [
        "df = df.fillna(\"Prof-speciality\", subset = ['occupation'])"
      ],
      "metadata": {
        "id": "zeQcPWjhHWeQ"
      },
      "execution_count": null,
      "outputs": []
    },
    {
      "cell_type": "code",
      "source": [
        "df.select([count(when(col(c).isNull(), c)).alias(c) for c in new_df.columns]).show()"
      ],
      "metadata": {
        "colab": {
          "base_uri": "https://localhost:8080/"
        },
        "id": "KxX9G5cUH4PG",
        "outputId": "c75c35b6-1636-4cec-a49e-7dbfd8f016f2"
      },
      "execution_count": null,
      "outputs": [
        {
          "output_type": "stream",
          "name": "stdout",
          "text": [
            "+---+---------+------+---------+-------+-------+----------+--------+----+------+----+----+---------+-------+------+\n",
            "|age|workclass|fnlwgt|education|numbers|marital|occupation|relation|race|gender|gain|loss|hourlypay|country|income|\n",
            "+---+---------+------+---------+-------+-------+----------+--------+----+------+----+----+---------+-------+------+\n",
            "|  0|        0|     0|        0|      0|      0|         0|       0|   0|     0|   0|   0|        0|      0|     0|\n",
            "+---+---------+------+---------+-------+-------+----------+--------+----+------+----+----+---------+-------+------+\n",
            "\n"
          ]
        }
      ]
    },
    {
      "cell_type": "code",
      "source": [
        "from pyspark.ml.classification import LogisticRegression\n",
        "from pyspark.ml import Pipeline\n",
        "from pyspark.ml.feature import StringIndexer, VectorAssembler\n"
      ],
      "metadata": {
        "id": "rIjMCV_1H8Aw"
      },
      "execution_count": null,
      "outputs": []
    },
    {
      "cell_type": "markdown",
      "source": [],
      "metadata": {
        "id": "8a3BIMGvIqWA"
      }
    },
    {
      "cell_type": "code",
      "source": [
        "df.columns"
      ],
      "metadata": {
        "colab": {
          "base_uri": "https://localhost:8080/"
        },
        "id": "ZKOxm2aJIsGg",
        "outputId": "351b78b9-e7dd-4dea-cb60-9c91ae4f68f5"
      },
      "execution_count": null,
      "outputs": [
        {
          "output_type": "execute_result",
          "data": {
            "text/plain": [
              "['age',\n",
              " 'workclass',\n",
              " 'fnlwgt',\n",
              " 'education',\n",
              " 'numbers',\n",
              " 'marital',\n",
              " 'occupation',\n",
              " 'relation',\n",
              " 'race',\n",
              " 'gender',\n",
              " 'gain',\n",
              " 'loss',\n",
              " 'hourlypay',\n",
              " 'country',\n",
              " 'income']"
            ]
          },
          "metadata": {},
          "execution_count": 22
        }
      ]
    },
    {
      "cell_type": "code",
      "source": [
        "categorical_cols = [\n",
        " 'workclass',\n",
        " 'education',\n",
        " 'marital',\n",
        " 'occupation',\n",
        " 'relation',\n",
        " 'race',\n",
        " 'gender',\n",
        " 'country',\n",
        "]\n",
        "\n",
        "numerical_cols = ['age','fnlwgt','numbers','gain','loss','hourlypay']\n",
        "label = 'income'"
      ],
      "metadata": {
        "id": "eclbxOBWIlXT"
      },
      "execution_count": null,
      "outputs": []
    },
    {
      "cell_type": "code",
      "source": [
        "indexer = [StringIndexer(inputCol = c, outputCol = f\"{c}_index\", handleInvalid = \"keep\") for c in categorical_cols]\n"
      ],
      "metadata": {
        "id": "D5s17I2dI9cS"
      },
      "execution_count": null,
      "outputs": []
    },
    {
      "cell_type": "code",
      "source": [
        "label_indexer = StringIndexer(inputCol = \"income\", outputCol = \"label\", handleInvalid = \"keep\")\n",
        "\n"
      ],
      "metadata": {
        "id": "ipf8Z7A5Ka02"
      },
      "execution_count": null,
      "outputs": []
    },
    {
      "cell_type": "code",
      "source": [
        "assembler = VectorAssembler(inputCols = [f\"{c}_index\" for c in categorical_cols] + numerical_cols, outputCol = \"features\")"
      ],
      "metadata": {
        "id": "L6jfJoofKxJa"
      },
      "execution_count": null,
      "outputs": []
    },
    {
      "cell_type": "code",
      "source": [
        "lr = LogisticRegression(featuresCol = \"features\", labelCol = \"label\")"
      ],
      "metadata": {
        "id": "pSzYcOB-LJbW"
      },
      "execution_count": null,
      "outputs": []
    },
    {
      "cell_type": "code",
      "source": [
        "from pyspark.ml import Pipeline\n",
        "pipeline = Pipeline(stages = indexer + [label_indexer, assembler, lr])"
      ],
      "metadata": {
        "id": "-gT_8mwKLSMQ"
      },
      "execution_count": null,
      "outputs": []
    },
    {
      "cell_type": "code",
      "source": [
        "train_data, test_data = df.randomSplit([0.8, 0.2])"
      ],
      "metadata": {
        "id": "bnYQ3HGjL0rB"
      },
      "execution_count": null,
      "outputs": []
    },
    {
      "cell_type": "code",
      "source": [
        "model = pipeline.fit(train_data)"
      ],
      "metadata": {
        "id": "uzlAM2IoMM6u"
      },
      "execution_count": null,
      "outputs": []
    },
    {
      "cell_type": "code",
      "source": [
        "predictions = model.transform(test_data)"
      ],
      "metadata": {
        "id": "UwSewV-2MT6g"
      },
      "execution_count": null,
      "outputs": []
    },
    {
      "cell_type": "code",
      "source": [
        "predictions.show()"
      ],
      "metadata": {
        "colab": {
          "base_uri": "https://localhost:8080/"
        },
        "id": "F5V0KSKHMcgO",
        "outputId": "b229a85c-d56a-4ecf-9262-e454843a73d1"
      },
      "execution_count": null,
      "outputs": [
        {
          "output_type": "stream",
          "name": "stdout",
          "text": [
            "+---+-------------+--------+-------------+-------+--------------+---------------+---------------+-------------------+-------+----+----+---------+----------------+------+---------------+---------------+-------------+----------------+--------------+----------+------------+-------------+-----+--------------------+--------------------+--------------------+----------+\n",
            "|age|    workclass|  fnlwgt|    education|numbers|       marital|     occupation|       relation|               race| gender|gain|loss|hourlypay|         country|income|workclass_index|education_index|marital_index|occupation_index|relation_index|race_index|gender_index|country_index|label|            features|       rawPrediction|         probability|prediction|\n",
            "+---+-------------+--------+-------------+-------+--------------+---------------+---------------+-------------------+-------+----+----+---------+----------------+------+---------------+---------------+-------------+----------------+--------------+----------+------------+-------------+-----+--------------------+--------------------+--------------------+----------+\n",
            "| 17|            ?| 34019.0|         10th|    6.0| Never-married|              ?|      Own-child|              White|   Male| 0.0| 0.0|       20|   United-States| <=50K|            3.0|            7.0|          1.0|             7.0|           2.0|       0.0|         0.0|          0.0|  0.0|[3.0,7.0,1.0,7.0,...|[10.0530111430271...|[0.99426594377968...|       0.0|\n",
            "| 17|            ?| 64785.0|         10th|    6.0| Never-married|              ?|      Own-child|              White|   Male| 0.0| 0.0|       30|   United-States| <=50K|            3.0|            7.0|          1.0|             7.0|           2.0|       0.0|         0.0|          0.0|  0.0|[3.0,7.0,1.0,7.0,...|[9.87932449197202...|[0.99190347988535...|       0.0|\n",
            "| 17|            ?| 89870.0|         10th|    6.0| Never-married|              ?|      Own-child|              White|   Male| 0.0| 0.0|       40|   United-States| <=50K|            3.0|            7.0|          1.0|             7.0|           2.0|       0.0|         0.0|          0.0|  0.0|[3.0,7.0,1.0,7.0,...|[9.70416230647221...|[0.98862094884127...|       0.0|\n",
            "| 17|            ?| 94366.0|         10th|    6.0| Never-married|              ?| Other-relative|              White|   Male| 0.0| 0.0|        6|   United-States| <=50K|            3.0|            7.0|          1.0|             7.0|           5.0|       0.0|         0.0|          0.0|  0.0|[3.0,7.0,1.0,7.0,...|[11.0681057848992...|[0.99550460292078...|       0.0|\n",
            "| 17|            ?|110998.0| Some-college|   10.0| Never-married|              ?|      Own-child| Asian-Pac-Islander| Female| 0.0| 0.0|       40|     Philippines| <=50K|            3.0|            1.0|          1.0|             7.0|           2.0|       2.0|         1.0|          3.0|  0.0|[3.0,1.0,1.0,7.0,...|[9.99782207244933...|[0.97726813002257...|       0.0|\n",
            "| 17|            ?|112942.0|         10th|    6.0| Never-married|              ?|      Own-child|              White|   Male| 0.0| 0.0|       40|   United-States| <=50K|            3.0|            7.0|          1.0|             7.0|           2.0|       0.0|         0.0|          0.0|  0.0|[3.0,7.0,1.0,7.0,...|[9.71015483080029...|[0.98844900814387...|       0.0|\n",
            "| 17|            ?|138507.0|         10th|    6.0| Never-married|              ?|      Own-child|              White|   Male| 0.0| 0.0|       20|   United-States| <=50K|            3.0|            7.0|          1.0|             7.0|           2.0|       0.0|         0.0|          0.0|  0.0|[3.0,7.0,1.0,7.0,...|[10.0801499641953...|[0.99386062812616...|       0.0|\n",
            "| 17|            ?|172145.0|         10th|    6.0| Never-married|              ?|      Own-child|              Black| Female| 0.0| 0.0|       40|   United-States| <=50K|            3.0|            7.0|          1.0|             7.0|           2.0|       1.0|         1.0|          0.0|  0.0|[3.0,7.0,1.0,7.0,...|[10.4072078682731...|[0.99295537916031...|       0.0|\n",
            "| 17|            ?|179715.0|         10th|    6.0| Never-married|              ?|      Own-child|              White|   Male| 0.0| 0.0|       40|   United-States| <=50K|            3.0|            7.0|          1.0|             7.0|           2.0|       0.0|         0.0|          0.0|  0.0|[3.0,7.0,1.0,7.0,...|[9.72749787981895...|[0.98793679218570...|       0.0|\n",
            "| 17|            ?|210547.0|         10th|    6.0| Never-married|              ?|      Own-child|              White|   Male| 0.0| 0.0|       40|   United-States| <=50K|            3.0|            7.0|          1.0|             7.0|           2.0|       0.0|         0.0|          0.0|  0.0|[3.0,7.0,1.0,7.0,...|[9.73550592030453...|[0.98769276916263...|       0.0|\n",
            "| 17|            ?|241021.0|         12th|    8.0| Never-married|              ?|      Own-child|              Other| Female| 0.0| 0.0|       40|   United-States| <=50K|            3.0|           11.0|          1.0|             7.0|           2.0|       4.0|         1.0|          0.0|  0.0|[3.0,11.0,1.0,7.0...|[10.5340735971706...|[0.99148233136048...|       0.0|\n",
            "| 17|            ?|280670.0|         10th|    6.0| Never-married|              ?|      Own-child|              White| Female| 0.0| 0.0|       40|   United-States| <=50K|            3.0|            7.0|          1.0|             7.0|           2.0|       0.0|         1.0|          0.0|  0.0|[3.0,7.0,1.0,7.0,...|[10.2952024966928...|[0.99122630876387...|       0.0|\n",
            "| 17|            ?|454614.0|         11th|    7.0| Never-married|              ?|      Own-child|              White| Female| 0.0| 0.0|        8|   United-States| <=50K|            3.0|            5.0|          1.0|             7.0|           2.0|       0.0|         1.0|          0.0|  0.0|[3.0,5.0,1.0,7.0,...|[10.7820837292397...|[0.99503599915695...|       0.0|\n",
            "| 17|            ?|659273.0|         11th|    7.0| Never-married|              ?|      Own-child|              Black| Female| 0.0| 0.0|       40| Trinadad&Tobago| <=50K|            3.0|            5.0|          1.0|             7.0|           2.0|       1.0|         1.0|         32.0|  0.0|[3.0,5.0,1.0,7.0,...|[10.7464219881915...|[0.98977185964560...|       0.0|\n",
            "| 17|    Local-gov|148194.0|         11th|    7.0| Never-married|   Adm-clerical|      Own-child|              White| Female| 0.0| 0.0|       12|   United-States| <=50K|            2.0|            5.0|          1.0|             3.0|           2.0|       0.0|         1.0|          0.0|  0.0|[2.0,5.0,1.0,3.0,...|[10.4407670500855...|[0.99445465062415...|       0.0|\n",
            "| 17|    Local-gov|191910.0|         11th|    7.0| Never-married|          Sales|      Own-child|              White|   Male| 0.0| 0.0|       20|   United-States| <=50K|            2.0|            5.0|          1.0|             4.0|           2.0|       0.0|         0.0|          0.0|  0.0|[2.0,5.0,1.0,4.0,...|[9.83005103225657...|[0.98971644349502...|       0.0|\n",
            "| 17|    Local-gov|244856.0|         11th|    7.0| Never-married| Prof-specialty|      Own-child|              White| Female| 0.0| 0.0|       40|   United-States| <=50K|            2.0|            5.0|          1.0|             1.0|           2.0|       0.0|         1.0|          0.0|  0.0|[2.0,5.0,1.0,1.0,...|[9.82766601910750...|[0.98365227731580...|       0.0|\n",
            "| 17|    Local-gov|308901.0|         11th|    7.0| Never-married|   Adm-clerical|      Own-child|              White| Female| 0.0| 0.0|       15|   United-States| <=50K|            2.0|            5.0|          1.0|             3.0|           2.0|       0.0|         1.0|          0.0|  0.0|[2.0,5.0,1.0,3.0,...|[10.4280044496263...|[0.99320947058237...|       0.0|\n",
            "| 17| Never-worked|237272.0|         10th|    6.0| Never-married|              ?|      Own-child|              White|   Male| 0.0| 0.0|       30|   United-States| <=50K|            8.0|            7.0|          1.0|             7.0|           2.0|       0.0|         0.0|          0.0|  0.0|[8.0,7.0,1.0,7.0,...|[9.57431795707453...|[0.98879500100989...|       0.0|\n",
            "| 17|      Private| 27032.0|         10th|    6.0| Never-married|          Sales|      Own-child|              White| Female| 0.0| 0.0|       12|   United-States| <=50K|            0.0|            7.0|          1.0|             4.0|           2.0|       0.0|         1.0|          0.0|  0.0|[0.0,7.0,1.0,4.0,...|[10.7536408835250...|[0.99689036678631...|       0.0|\n",
            "+---+-------------+--------+-------------+-------+--------------+---------------+---------------+-------------------+-------+----+----+---------+----------------+------+---------------+---------------+-------------+----------------+--------------+----------+------------+-------------+-----+--------------------+--------------------+--------------------+----------+\n",
            "only showing top 20 rows\n",
            "\n"
          ]
        }
      ]
    },
    {
      "cell_type": "code",
      "source": [
        "predictions.select(\"prediction\", \"label\", \"features\").show()"
      ],
      "metadata": {
        "colab": {
          "base_uri": "https://localhost:8080/"
        },
        "id": "-0DGTtcGMjbU",
        "outputId": "cd2bac44-1ebb-4c12-9f9e-3f6543866f9b"
      },
      "execution_count": null,
      "outputs": [
        {
          "output_type": "stream",
          "name": "stdout",
          "text": [
            "+----------+-----+--------------------+\n",
            "|prediction|label|            features|\n",
            "+----------+-----+--------------------+\n",
            "|       0.0|  0.0|[3.0,7.0,1.0,7.0,...|\n",
            "|       0.0|  0.0|[3.0,7.0,1.0,7.0,...|\n",
            "|       0.0|  0.0|[3.0,7.0,1.0,7.0,...|\n",
            "|       0.0|  0.0|[3.0,7.0,1.0,7.0,...|\n",
            "|       0.0|  0.0|[3.0,1.0,1.0,7.0,...|\n",
            "|       0.0|  0.0|[3.0,7.0,1.0,7.0,...|\n",
            "|       0.0|  0.0|[3.0,7.0,1.0,7.0,...|\n",
            "|       0.0|  0.0|[3.0,7.0,1.0,7.0,...|\n",
            "|       0.0|  0.0|[3.0,7.0,1.0,7.0,...|\n",
            "|       0.0|  0.0|[3.0,7.0,1.0,7.0,...|\n",
            "|       0.0|  0.0|[3.0,11.0,1.0,7.0...|\n",
            "|       0.0|  0.0|[3.0,7.0,1.0,7.0,...|\n",
            "|       0.0|  0.0|[3.0,5.0,1.0,7.0,...|\n",
            "|       0.0|  0.0|[3.0,5.0,1.0,7.0,...|\n",
            "|       0.0|  0.0|[2.0,5.0,1.0,3.0,...|\n",
            "|       0.0|  0.0|[2.0,5.0,1.0,4.0,...|\n",
            "|       0.0|  0.0|[2.0,5.0,1.0,1.0,...|\n",
            "|       0.0|  0.0|[2.0,5.0,1.0,3.0,...|\n",
            "|       0.0|  0.0|[8.0,7.0,1.0,7.0,...|\n",
            "|       0.0|  0.0|[0.0,7.0,1.0,4.0,...|\n",
            "+----------+-----+--------------------+\n",
            "only showing top 20 rows\n",
            "\n"
          ]
        }
      ]
    },
    {
      "cell_type": "code",
      "source": [
        "predictions.select(\"prediction\", \"label\").distinct().show()"
      ],
      "metadata": {
        "colab": {
          "base_uri": "https://localhost:8080/"
        },
        "id": "Imp5QLO4NGur",
        "outputId": "f9f06d1a-8815-478a-f42d-1dd52c211ba6"
      },
      "execution_count": null,
      "outputs": [
        {
          "output_type": "stream",
          "name": "stdout",
          "text": [
            "+----------+-----+\n",
            "|prediction|label|\n",
            "+----------+-----+\n",
            "|       1.0|  1.0|\n",
            "|       0.0|  1.0|\n",
            "|       1.0|  0.0|\n",
            "|       0.0|  0.0|\n",
            "+----------+-----+\n",
            "\n"
          ]
        }
      ]
    },
    {
      "cell_type": "code",
      "source": [
        "predictions.groupBy(\"prediction\", \"label\").count().show()"
      ],
      "metadata": {
        "colab": {
          "base_uri": "https://localhost:8080/"
        },
        "id": "xknGBiAJNGnE",
        "outputId": "523c2cef-54e1-400b-80bd-10739f71f40c"
      },
      "execution_count": null,
      "outputs": [
        {
          "output_type": "stream",
          "name": "stdout",
          "text": [
            "+----------+-----+-----+\n",
            "|prediction|label|count|\n",
            "+----------+-----+-----+\n",
            "|       1.0|  1.0|  802|\n",
            "|       0.0|  1.0|  779|\n",
            "|       1.0|  0.0|  291|\n",
            "|       0.0|  0.0| 4642|\n",
            "+----------+-----+-----+\n",
            "\n"
          ]
        }
      ]
    },
    {
      "cell_type": "code",
      "source": [
        "from pyspark.ml.evaluation import MulticlassClassificationEvaluator\n",
        "evaluator = MulticlassClassificationEvaluator(predictionCol = \"prediction\", labelCol = \"label\", metricName = \"accuracy\")\n"
      ],
      "metadata": {
        "id": "ts_VIUzNNoHn"
      },
      "execution_count": null,
      "outputs": []
    },
    {
      "cell_type": "code",
      "source": [
        "accuracy = evaluator.evaluate(predictions)\n",
        "accuracy"
      ],
      "metadata": {
        "colab": {
          "base_uri": "https://localhost:8080/"
        },
        "id": "Xsz3sgFONx0-",
        "outputId": "c4c58147-f595-42de-b47e-ac1096f5ea1b"
      },
      "execution_count": null,
      "outputs": [
        {
          "output_type": "execute_result",
          "data": {
            "text/plain": [
              "0.8357384095793675"
            ]
          },
          "metadata": {},
          "execution_count": 37
        }
      ]
    },
    {
      "cell_type": "code",
      "source": [
        "df.show()"
      ],
      "metadata": {
        "id": "fygpwXUbN_hs",
        "colab": {
          "base_uri": "https://localhost:8080/"
        },
        "outputId": "dc91251d-78e1-4637-d8a7-d8c03b15798a"
      },
      "execution_count": null,
      "outputs": [
        {
          "output_type": "stream",
          "name": "stdout",
          "text": [
            "+---+-----------------+--------+-------------+-------+--------------------+------------------+--------------+-------------------+-------+-------+----+---------+--------------+------+\n",
            "|age|        workclass|  fnlwgt|    education|numbers|             marital|        occupation|      relation|               race| gender|   gain|loss|hourlypay|       country|income|\n",
            "+---+-----------------+--------+-------------+-------+--------------------+------------------+--------------+-------------------+-------+-------+----+---------+--------------+------+\n",
            "| 50| Self-emp-not-inc| 83311.0|    Bachelors|   13.0|  Married-civ-spouse|   Exec-managerial|       Husband|              White|   Male|    0.0| 0.0|       13| United-States| <=50K|\n",
            "| 38|          Private|215646.0|      HS-grad|    9.0|            Divorced| Handlers-cleaners| Not-in-family|              White|   Male|    0.0| 0.0|       40| United-States| <=50K|\n",
            "| 53|          Private|234721.0|         11th|    7.0|  Married-civ-spouse| Handlers-cleaners|       Husband|              Black|   Male|    0.0| 0.0|       40| United-States| <=50K|\n",
            "| 28|          Private|338409.0|    Bachelors|   13.0|  Married-civ-spouse|    Prof-specialty|          Wife|              Black| Female|    0.0| 0.0|       40|          Cuba| <=50K|\n",
            "| 37|          Private|284582.0|      Masters|   14.0|  Married-civ-spouse|   Exec-managerial|          Wife|              White| Female|    0.0| 0.0|       40| United-States| <=50K|\n",
            "| 49|          Private|160187.0|          9th|    5.0| Married-spouse-a...|     Other-service| Not-in-family|              Black| Female|    0.0| 0.0|       16|       Jamaica| <=50K|\n",
            "| 52| Self-emp-not-inc|209642.0|      HS-grad|    9.0|  Married-civ-spouse|   Exec-managerial|       Husband|              White|   Male|    0.0| 0.0|       45| United-States|  >50K|\n",
            "| 31|          Private| 45781.0|      Masters|   14.0|       Never-married|    Prof-specialty| Not-in-family|              White| Female|14084.0| 0.0|       50| United-States|  >50K|\n",
            "| 42|          Private|159449.0|    Bachelors|   13.0|  Married-civ-spouse|   Exec-managerial|       Husband|              White|   Male| 5178.0| 0.0|       40| United-States|  >50K|\n",
            "| 37|          Private|280464.0| Some-college|   10.0|  Married-civ-spouse|   Exec-managerial|       Husband|              Black|   Male|    0.0| 0.0|       80| United-States|  >50K|\n",
            "| 30|        State-gov|141297.0|    Bachelors|   13.0|  Married-civ-spouse|    Prof-specialty|       Husband| Asian-Pac-Islander|   Male|    0.0| 0.0|       40|         India|  >50K|\n",
            "| 23|          Private|122272.0|    Bachelors|   13.0|       Never-married|      Adm-clerical|     Own-child|              White| Female|    0.0| 0.0|       30| United-States| <=50K|\n",
            "| 32|          Private|205019.0|   Assoc-acdm|   12.0|       Never-married|             Sales| Not-in-family|              Black|   Male|    0.0| 0.0|       50| United-States| <=50K|\n",
            "| 40|          Private|121772.0|    Assoc-voc|   11.0|  Married-civ-spouse|      Craft-repair|       Husband| Asian-Pac-Islander|   Male|    0.0| 0.0|       40|             ?|  >50K|\n",
            "| 34|          Private|245487.0|      7th-8th|    4.0|  Married-civ-spouse|  Transport-moving|       Husband| Amer-Indian-Eskimo|   Male|    0.0| 0.0|       45|        Mexico| <=50K|\n",
            "| 25| Self-emp-not-inc|176756.0|      HS-grad|    9.0|       Never-married|   Farming-fishing|     Own-child|              White|   Male|    0.0| 0.0|       35| United-States| <=50K|\n",
            "| 32|          Private|186824.0|      HS-grad|    9.0|       Never-married| Machine-op-inspct|     Unmarried|              White|   Male|    0.0| 0.0|       40| United-States| <=50K|\n",
            "| 38|          Private| 28887.0|         11th|    7.0|  Married-civ-spouse|             Sales|       Husband|              White|   Male|    0.0| 0.0|       50| United-States| <=50K|\n",
            "| 43| Self-emp-not-inc|292175.0|      Masters|   14.0|            Divorced|   Exec-managerial|     Unmarried|              White| Female|    0.0| 0.0|       45| United-States|  >50K|\n",
            "| 40|          Private|193524.0|    Doctorate|   16.0|  Married-civ-spouse|    Prof-specialty|       Husband|              White|   Male|    0.0| 0.0|       60| United-States|  >50K|\n",
            "+---+-----------------+--------+-------------+-------+--------------------+------------------+--------------+-------------------+-------+-------+----+---------+--------------+------+\n",
            "only showing top 20 rows\n",
            "\n"
          ]
        }
      ]
    },
    {
      "cell_type": "markdown",
      "source": [
        "## Now We are Going to Implementing Naive Bayes With Help of Pyspark Framework of Python"
      ],
      "metadata": {
        "id": "ORUP5qe0bMug"
      }
    },
    {
      "cell_type": "markdown",
      "source": [
        "* Generally we are Going to take dataset as it is like above here as well"
      ],
      "metadata": {
        "id": "we_b4nG7bWSY"
      }
    },
    {
      "cell_type": "code",
      "source": [
        " categorical_cols = [\n",
        " 'education',\n",
        " 'marital',\n",
        " 'occupation',\n",
        " 'relation',\n",
        " 'race',\n",
        " 'gender',\n",
        " 'country',\n",
        "\n",
        "]\n",
        "\n",
        "numerical_cols = ['age','fnlwgt','numbers','gain','loss','hourlypay']\n",
        "label = 'income'"
      ],
      "metadata": {
        "id": "vuKwatCdaW5g"
      },
      "execution_count": null,
      "outputs": []
    },
    {
      "cell_type": "code",
      "source": [
        "def indexer(df, cols):\n",
        "  indexer = StringIndexer(inputCol = cols, outputCol = f\"{cols}_index\", handleInvalid = \"keep\")\n",
        "  indexed = indexer.fit(df).transform(df)\n",
        "  return indexed\n"
      ],
      "metadata": {
        "id": "EZJmCZHRbfuF"
      },
      "execution_count": null,
      "outputs": []
    },
    {
      "cell_type": "code",
      "source": [
        "indexer(df, 'workclass').show()\n"
      ],
      "metadata": {
        "colab": {
          "base_uri": "https://localhost:8080/"
        },
        "id": "FnFywSiBcK1h",
        "outputId": "67866ad6-1ac0-4c15-bf36-969dc89dfe94"
      },
      "execution_count": null,
      "outputs": [
        {
          "output_type": "stream",
          "name": "stdout",
          "text": [
            "+---+-----------------+--------+-------------+-------+--------------------+------------------+--------------+-------------------+-------+-------+----+---------+--------------+------+---------------+\n",
            "|age|        workclass|  fnlwgt|    education|numbers|             marital|        occupation|      relation|               race| gender|   gain|loss|hourlypay|       country|income|workclass_index|\n",
            "+---+-----------------+--------+-------------+-------+--------------------+------------------+--------------+-------------------+-------+-------+----+---------+--------------+------+---------------+\n",
            "| 50| Self-emp-not-inc| 83311.0|    Bachelors|   13.0|  Married-civ-spouse|   Exec-managerial|       Husband|              White|   Male|    0.0| 0.0|       13| United-States| <=50K|            1.0|\n",
            "| 38|          Private|215646.0|      HS-grad|    9.0|            Divorced| Handlers-cleaners| Not-in-family|              White|   Male|    0.0| 0.0|       40| United-States| <=50K|            0.0|\n",
            "| 53|          Private|234721.0|         11th|    7.0|  Married-civ-spouse| Handlers-cleaners|       Husband|              Black|   Male|    0.0| 0.0|       40| United-States| <=50K|            0.0|\n",
            "| 28|          Private|338409.0|    Bachelors|   13.0|  Married-civ-spouse|    Prof-specialty|          Wife|              Black| Female|    0.0| 0.0|       40|          Cuba| <=50K|            0.0|\n",
            "| 37|          Private|284582.0|      Masters|   14.0|  Married-civ-spouse|   Exec-managerial|          Wife|              White| Female|    0.0| 0.0|       40| United-States| <=50K|            0.0|\n",
            "| 49|          Private|160187.0|          9th|    5.0| Married-spouse-a...|     Other-service| Not-in-family|              Black| Female|    0.0| 0.0|       16|       Jamaica| <=50K|            0.0|\n",
            "| 52| Self-emp-not-inc|209642.0|      HS-grad|    9.0|  Married-civ-spouse|   Exec-managerial|       Husband|              White|   Male|    0.0| 0.0|       45| United-States|  >50K|            1.0|\n",
            "| 31|          Private| 45781.0|      Masters|   14.0|       Never-married|    Prof-specialty| Not-in-family|              White| Female|14084.0| 0.0|       50| United-States|  >50K|            0.0|\n",
            "| 42|          Private|159449.0|    Bachelors|   13.0|  Married-civ-spouse|   Exec-managerial|       Husband|              White|   Male| 5178.0| 0.0|       40| United-States|  >50K|            0.0|\n",
            "| 37|          Private|280464.0| Some-college|   10.0|  Married-civ-spouse|   Exec-managerial|       Husband|              Black|   Male|    0.0| 0.0|       80| United-States|  >50K|            0.0|\n",
            "| 30|        State-gov|141297.0|    Bachelors|   13.0|  Married-civ-spouse|    Prof-specialty|       Husband| Asian-Pac-Islander|   Male|    0.0| 0.0|       40|         India|  >50K|            4.0|\n",
            "| 23|          Private|122272.0|    Bachelors|   13.0|       Never-married|      Adm-clerical|     Own-child|              White| Female|    0.0| 0.0|       30| United-States| <=50K|            0.0|\n",
            "| 32|          Private|205019.0|   Assoc-acdm|   12.0|       Never-married|             Sales| Not-in-family|              Black|   Male|    0.0| 0.0|       50| United-States| <=50K|            0.0|\n",
            "| 40|          Private|121772.0|    Assoc-voc|   11.0|  Married-civ-spouse|      Craft-repair|       Husband| Asian-Pac-Islander|   Male|    0.0| 0.0|       40|             ?|  >50K|            0.0|\n",
            "| 34|          Private|245487.0|      7th-8th|    4.0|  Married-civ-spouse|  Transport-moving|       Husband| Amer-Indian-Eskimo|   Male|    0.0| 0.0|       45|        Mexico| <=50K|            0.0|\n",
            "| 25| Self-emp-not-inc|176756.0|      HS-grad|    9.0|       Never-married|   Farming-fishing|     Own-child|              White|   Male|    0.0| 0.0|       35| United-States| <=50K|            1.0|\n",
            "| 32|          Private|186824.0|      HS-grad|    9.0|       Never-married| Machine-op-inspct|     Unmarried|              White|   Male|    0.0| 0.0|       40| United-States| <=50K|            0.0|\n",
            "| 38|          Private| 28887.0|         11th|    7.0|  Married-civ-spouse|             Sales|       Husband|              White|   Male|    0.0| 0.0|       50| United-States| <=50K|            0.0|\n",
            "| 43| Self-emp-not-inc|292175.0|      Masters|   14.0|            Divorced|   Exec-managerial|     Unmarried|              White| Female|    0.0| 0.0|       45| United-States|  >50K|            1.0|\n",
            "| 40|          Private|193524.0|    Doctorate|   16.0|  Married-civ-spouse|    Prof-specialty|       Husband|              White|   Male|    0.0| 0.0|       60| United-States|  >50K|            0.0|\n",
            "+---+-----------------+--------+-------------+-------+--------------------+------------------+--------------+-------------------+-------+-------+----+---------+--------------+------+---------------+\n",
            "only showing top 20 rows\n",
            "\n"
          ]
        }
      ]
    },
    {
      "cell_type": "code",
      "source": [
        "for cols in categorical_cols:\n",
        "  index_df = indexer(new_df, cols)\n",
        "  new_df = index_df\n"
      ],
      "metadata": {
        "id": "HuFbB9lsd9Q_"
      },
      "execution_count": null,
      "outputs": []
    },
    {
      "cell_type": "code",
      "source": [
        " new_df = index_df\n"
      ],
      "metadata": {
        "id": "XXgXZwitc-vK"
      },
      "execution_count": null,
      "outputs": []
    },
    {
      "cell_type": "code",
      "source": [
        "new_df.show()"
      ],
      "metadata": {
        "colab": {
          "base_uri": "https://localhost:8080/"
        },
        "id": "UmgMZ2lydVRa",
        "outputId": "d405712b-52c0-4613-db7c-ab6b628f59ee"
      },
      "execution_count": null,
      "outputs": [
        {
          "output_type": "stream",
          "name": "stdout",
          "text": [
            "+---+-----------------+--------+-------------+-------+--------------------+------------------+--------------+-------------------+-------+-------+----+---------+--------------+------+---------------+-------------+----------------+--------------+----------+------------+-------------+\n",
            "|age|        workclass|  fnlwgt|    education|numbers|             marital|        occupation|      relation|               race| gender|   gain|loss|hourlypay|       country|income|education_index|marital_index|occupation_index|relation_index|race_index|gender_index|country_index|\n",
            "+---+-----------------+--------+-------------+-------+--------------------+------------------+--------------+-------------------+-------+-------+----+---------+--------------+------+---------------+-------------+----------------+--------------+----------+------------+-------------+\n",
            "| 50| Self-emp-not-inc| 83311.0|    Bachelors|   13.0|  Married-civ-spouse|   Exec-managerial|       Husband|              White|   Male|    0.0| 0.0|       13| United-States| <=50K|            2.0|          0.0|             2.0|           0.0|       0.0|         0.0|          0.0|\n",
            "| 38|          Private|215646.0|      HS-grad|    9.0|            Divorced| Handlers-cleaners| Not-in-family|              White|   Male|    0.0| 0.0|       40| United-States| <=50K|            0.0|          2.0|             9.0|           1.0|       0.0|         0.0|          0.0|\n",
            "| 53|          Private|234721.0|         11th|    7.0|  Married-civ-spouse| Handlers-cleaners|       Husband|              Black|   Male|    0.0| 0.0|       40| United-States| <=50K|            5.0|          0.0|             9.0|           0.0|       1.0|         0.0|          0.0|\n",
            "| 28|          Private|338409.0|    Bachelors|   13.0|  Married-civ-spouse|    Prof-specialty|          Wife|              Black| Female|    0.0| 0.0|       40|          Cuba| <=50K|            2.0|          0.0|             0.0|           4.0|       1.0|         1.0|          9.0|\n",
            "| 37|          Private|284582.0|      Masters|   14.0|  Married-civ-spouse|   Exec-managerial|          Wife|              White| Female|    0.0| 0.0|       40| United-States| <=50K|            3.0|          0.0|             2.0|           4.0|       0.0|         1.0|          0.0|\n",
            "| 49|          Private|160187.0|          9th|    5.0| Married-spouse-a...|     Other-service| Not-in-family|              Black| Female|    0.0| 0.0|       16|       Jamaica| <=50K|           10.0|          5.0|             5.0|           1.0|       1.0|         1.0|         11.0|\n",
            "| 52| Self-emp-not-inc|209642.0|      HS-grad|    9.0|  Married-civ-spouse|   Exec-managerial|       Husband|              White|   Male|    0.0| 0.0|       45| United-States|  >50K|            0.0|          0.0|             2.0|           0.0|       0.0|         0.0|          0.0|\n",
            "| 31|          Private| 45781.0|      Masters|   14.0|       Never-married|    Prof-specialty| Not-in-family|              White| Female|14084.0| 0.0|       50| United-States|  >50K|            3.0|          1.0|             0.0|           1.0|       0.0|         1.0|          0.0|\n",
            "| 42|          Private|159449.0|    Bachelors|   13.0|  Married-civ-spouse|   Exec-managerial|       Husband|              White|   Male| 5178.0| 0.0|       40| United-States|  >50K|            2.0|          0.0|             2.0|           0.0|       0.0|         0.0|          0.0|\n",
            "| 37|          Private|280464.0| Some-college|   10.0|  Married-civ-spouse|   Exec-managerial|       Husband|              Black|   Male|    0.0| 0.0|       80| United-States|  >50K|            1.0|          0.0|             2.0|           0.0|       1.0|         0.0|          0.0|\n",
            "| 30|        State-gov|141297.0|    Bachelors|   13.0|  Married-civ-spouse|    Prof-specialty|       Husband| Asian-Pac-Islander|   Male|    0.0| 0.0|       40|         India|  >50K|            2.0|          0.0|             0.0|           0.0|       2.0|         0.0|          8.0|\n",
            "| 23|          Private|122272.0|    Bachelors|   13.0|       Never-married|      Adm-clerical|     Own-child|              White| Female|    0.0| 0.0|       30| United-States| <=50K|            2.0|          1.0|             3.0|           2.0|       0.0|         1.0|          0.0|\n",
            "| 32|          Private|205019.0|   Assoc-acdm|   12.0|       Never-married|             Sales| Not-in-family|              Black|   Male|    0.0| 0.0|       50| United-States| <=50K|            6.0|          1.0|             4.0|           1.0|       1.0|         0.0|          0.0|\n",
            "| 40|          Private|121772.0|    Assoc-voc|   11.0|  Married-civ-spouse|      Craft-repair|       Husband| Asian-Pac-Islander|   Male|    0.0| 0.0|       40|             ?|  >50K|            4.0|          0.0|             1.0|           0.0|       2.0|         0.0|          2.0|\n",
            "| 34|          Private|245487.0|      7th-8th|    4.0|  Married-civ-spouse|  Transport-moving|       Husband| Amer-Indian-Eskimo|   Male|    0.0| 0.0|       45|        Mexico| <=50K|            8.0|          0.0|             8.0|           0.0|       3.0|         0.0|          1.0|\n",
            "| 25| Self-emp-not-inc|176756.0|      HS-grad|    9.0|       Never-married|   Farming-fishing|     Own-child|              White|   Male|    0.0| 0.0|       35| United-States| <=50K|            0.0|          1.0|            10.0|           2.0|       0.0|         0.0|          0.0|\n",
            "| 32|          Private|186824.0|      HS-grad|    9.0|       Never-married| Machine-op-inspct|     Unmarried|              White|   Male|    0.0| 0.0|       40| United-States| <=50K|            0.0|          1.0|             6.0|           3.0|       0.0|         0.0|          0.0|\n",
            "| 38|          Private| 28887.0|         11th|    7.0|  Married-civ-spouse|             Sales|       Husband|              White|   Male|    0.0| 0.0|       50| United-States| <=50K|            5.0|          0.0|             4.0|           0.0|       0.0|         0.0|          0.0|\n",
            "| 43| Self-emp-not-inc|292175.0|      Masters|   14.0|            Divorced|   Exec-managerial|     Unmarried|              White| Female|    0.0| 0.0|       45| United-States|  >50K|            3.0|          2.0|             2.0|           3.0|       0.0|         1.0|          0.0|\n",
            "| 40|          Private|193524.0|    Doctorate|   16.0|  Married-civ-spouse|    Prof-specialty|       Husband|              White|   Male|    0.0| 0.0|       60| United-States|  >50K|           12.0|          0.0|             0.0|           0.0|       0.0|         0.0|          0.0|\n",
            "+---+-----------------+--------+-------------+-------+--------------------+------------------+--------------+-------------------+-------+-------+----+---------+--------------+------+---------------+-------------+----------------+--------------+----------+------------+-------------+\n",
            "only showing top 20 rows\n",
            "\n"
          ]
        }
      ]
    },
    {
      "cell_type": "code",
      "source": [
        "assembler = VectorAssembler(inputCols = [f\"{c}_index\" for c in categorical_cols] + numerical_cols, outputCol = \"features\")"
      ],
      "metadata": {
        "id": "LjW6fZSTfBPq"
      },
      "execution_count": null,
      "outputs": []
    },
    {
      "cell_type": "code",
      "source": [
        "vector = assembler.transform(new_df)"
      ],
      "metadata": {
        "id": "fiivjQ6jfCYo"
      },
      "execution_count": null,
      "outputs": []
    },
    {
      "cell_type": "code",
      "source": [
        "vector.show()"
      ],
      "metadata": {
        "colab": {
          "base_uri": "https://localhost:8080/"
        },
        "id": "o2lQHOeFfNTN",
        "outputId": "50d9b5cf-b3b7-454b-df04-2d22521c244d"
      },
      "execution_count": null,
      "outputs": [
        {
          "output_type": "stream",
          "name": "stdout",
          "text": [
            "+---+-----------------+--------+-------------+-------+--------------------+------------------+--------------+-------------------+-------+-------+----+---------+--------------+------+---------------+-------------+----------------+--------------+----------+------------+-------------+--------------------+\n",
            "|age|        workclass|  fnlwgt|    education|numbers|             marital|        occupation|      relation|               race| gender|   gain|loss|hourlypay|       country|income|education_index|marital_index|occupation_index|relation_index|race_index|gender_index|country_index|            features|\n",
            "+---+-----------------+--------+-------------+-------+--------------------+------------------+--------------+-------------------+-------+-------+----+---------+--------------+------+---------------+-------------+----------------+--------------+----------+------------+-------------+--------------------+\n",
            "| 50| Self-emp-not-inc| 83311.0|    Bachelors|   13.0|  Married-civ-spouse|   Exec-managerial|       Husband|              White|   Male|    0.0| 0.0|       13| United-States| <=50K|            2.0|          0.0|             2.0|           0.0|       0.0|         0.0|          0.0|(13,[0,2,7,8,9,12...|\n",
            "| 38|          Private|215646.0|      HS-grad|    9.0|            Divorced| Handlers-cleaners| Not-in-family|              White|   Male|    0.0| 0.0|       40| United-States| <=50K|            0.0|          2.0|             9.0|           1.0|       0.0|         0.0|          0.0|(13,[1,2,3,7,8,9,...|\n",
            "| 53|          Private|234721.0|         11th|    7.0|  Married-civ-spouse| Handlers-cleaners|       Husband|              Black|   Male|    0.0| 0.0|       40| United-States| <=50K|            5.0|          0.0|             9.0|           0.0|       1.0|         0.0|          0.0|(13,[0,2,4,7,8,9,...|\n",
            "| 28|          Private|338409.0|    Bachelors|   13.0|  Married-civ-spouse|    Prof-specialty|          Wife|              Black| Female|    0.0| 0.0|       40|          Cuba| <=50K|            2.0|          0.0|             0.0|           4.0|       1.0|         1.0|          9.0|[2.0,0.0,0.0,4.0,...|\n",
            "| 37|          Private|284582.0|      Masters|   14.0|  Married-civ-spouse|   Exec-managerial|          Wife|              White| Female|    0.0| 0.0|       40| United-States| <=50K|            3.0|          0.0|             2.0|           4.0|       0.0|         1.0|          0.0|[3.0,0.0,2.0,4.0,...|\n",
            "| 49|          Private|160187.0|          9th|    5.0| Married-spouse-a...|     Other-service| Not-in-family|              Black| Female|    0.0| 0.0|       16|       Jamaica| <=50K|           10.0|          5.0|             5.0|           1.0|       1.0|         1.0|         11.0|[10.0,5.0,5.0,1.0...|\n",
            "| 52| Self-emp-not-inc|209642.0|      HS-grad|    9.0|  Married-civ-spouse|   Exec-managerial|       Husband|              White|   Male|    0.0| 0.0|       45| United-States|  >50K|            0.0|          0.0|             2.0|           0.0|       0.0|         0.0|          0.0|(13,[2,7,8,9,12],...|\n",
            "| 31|          Private| 45781.0|      Masters|   14.0|       Never-married|    Prof-specialty| Not-in-family|              White| Female|14084.0| 0.0|       50| United-States|  >50K|            3.0|          1.0|             0.0|           1.0|       0.0|         1.0|          0.0|[3.0,1.0,0.0,1.0,...|\n",
            "| 42|          Private|159449.0|    Bachelors|   13.0|  Married-civ-spouse|   Exec-managerial|       Husband|              White|   Male| 5178.0| 0.0|       40| United-States|  >50K|            2.0|          0.0|             2.0|           0.0|       0.0|         0.0|          0.0|(13,[0,2,7,8,9,10...|\n",
            "| 37|          Private|280464.0| Some-college|   10.0|  Married-civ-spouse|   Exec-managerial|       Husband|              Black|   Male|    0.0| 0.0|       80| United-States|  >50K|            1.0|          0.0|             2.0|           0.0|       1.0|         0.0|          0.0|(13,[0,2,4,7,8,9,...|\n",
            "| 30|        State-gov|141297.0|    Bachelors|   13.0|  Married-civ-spouse|    Prof-specialty|       Husband| Asian-Pac-Islander|   Male|    0.0| 0.0|       40|         India|  >50K|            2.0|          0.0|             0.0|           0.0|       2.0|         0.0|          8.0|(13,[0,4,6,7,8,9,...|\n",
            "| 23|          Private|122272.0|    Bachelors|   13.0|       Never-married|      Adm-clerical|     Own-child|              White| Female|    0.0| 0.0|       30| United-States| <=50K|            2.0|          1.0|             3.0|           2.0|       0.0|         1.0|          0.0|[2.0,1.0,3.0,2.0,...|\n",
            "| 32|          Private|205019.0|   Assoc-acdm|   12.0|       Never-married|             Sales| Not-in-family|              Black|   Male|    0.0| 0.0|       50| United-States| <=50K|            6.0|          1.0|             4.0|           1.0|       1.0|         0.0|          0.0|[6.0,1.0,4.0,1.0,...|\n",
            "| 40|          Private|121772.0|    Assoc-voc|   11.0|  Married-civ-spouse|      Craft-repair|       Husband| Asian-Pac-Islander|   Male|    0.0| 0.0|       40|             ?|  >50K|            4.0|          0.0|             1.0|           0.0|       2.0|         0.0|          2.0|[4.0,0.0,1.0,0.0,...|\n",
            "| 34|          Private|245487.0|      7th-8th|    4.0|  Married-civ-spouse|  Transport-moving|       Husband| Amer-Indian-Eskimo|   Male|    0.0| 0.0|       45|        Mexico| <=50K|            8.0|          0.0|             8.0|           0.0|       3.0|         0.0|          1.0|[8.0,0.0,8.0,0.0,...|\n",
            "| 25| Self-emp-not-inc|176756.0|      HS-grad|    9.0|       Never-married|   Farming-fishing|     Own-child|              White|   Male|    0.0| 0.0|       35| United-States| <=50K|            0.0|          1.0|            10.0|           2.0|       0.0|         0.0|          0.0|(13,[1,2,3,7,8,9,...|\n",
            "| 32|          Private|186824.0|      HS-grad|    9.0|       Never-married| Machine-op-inspct|     Unmarried|              White|   Male|    0.0| 0.0|       40| United-States| <=50K|            0.0|          1.0|             6.0|           3.0|       0.0|         0.0|          0.0|(13,[1,2,3,7,8,9,...|\n",
            "| 38|          Private| 28887.0|         11th|    7.0|  Married-civ-spouse|             Sales|       Husband|              White|   Male|    0.0| 0.0|       50| United-States| <=50K|            5.0|          0.0|             4.0|           0.0|       0.0|         0.0|          0.0|(13,[0,2,7,8,9,12...|\n",
            "| 43| Self-emp-not-inc|292175.0|      Masters|   14.0|            Divorced|   Exec-managerial|     Unmarried|              White| Female|    0.0| 0.0|       45| United-States|  >50K|            3.0|          2.0|             2.0|           3.0|       0.0|         1.0|          0.0|[3.0,2.0,2.0,3.0,...|\n",
            "| 40|          Private|193524.0|    Doctorate|   16.0|  Married-civ-spouse|    Prof-specialty|       Husband|              White|   Male|    0.0| 0.0|       60| United-States|  >50K|           12.0|          0.0|             0.0|           0.0|       0.0|         0.0|          0.0|(13,[0,7,8,9,12],...|\n",
            "+---+-----------------+--------+-------------+-------+--------------------+------------------+--------------+-------------------+-------+-------+----+---------+--------------+------+---------------+-------------+----------------+--------------+----------+------------+-------------+--------------------+\n",
            "only showing top 20 rows\n",
            "\n"
          ]
        }
      ]
    },
    {
      "cell_type": "markdown",
      "source": [
        "# Find The Correlation Using Correlation Matrix\n",
        "* Pearson - r1\n",
        "* Spearman - r2"
      ],
      "metadata": {
        "id": "OAd9Ja9Mg0tQ"
      }
    },
    {
      "cell_type": "code",
      "source": [
        "from pyspark.ml.stat import Correlation"
      ],
      "metadata": {
        "id": "MTEaFJ-DfPU_"
      },
      "execution_count": null,
      "outputs": []
    },
    {
      "cell_type": "code",
      "source": [
        "r1 = Correlation.corr(vector, 'features').head()"
      ],
      "metadata": {
        "id": "LYEw-5jcfWuh"
      },
      "execution_count": null,
      "outputs": []
    },
    {
      "cell_type": "code",
      "source": [
        "print(\"Pearson correlation matrix:\\n\" + str(r1[0]))"
      ],
      "metadata": {
        "colab": {
          "base_uri": "https://localhost:8080/"
        },
        "id": "aomEfkzzfcZs",
        "outputId": "238e5a00-a7f8-4762-bf3e-8d939372b547"
      },
      "execution_count": null,
      "outputs": [
        {
          "output_type": "stream",
          "name": "stdout",
          "text": [
            "Pearson correlation matrix:\n",
            "DenseMatrix([[ 1.00000000e+00, -5.43416782e-03, -1.64898072e-02,\n",
            "              -1.40359718e-02,  3.20363191e-02, -4.02192490e-02,\n",
            "               8.29989518e-02,  7.61126901e-02,  3.44797621e-02,\n",
            "              -1.70080159e-01,  5.92854586e-02,  2.19370853e-02,\n",
            "              -7.92968005e-03],\n",
            "             [-5.43416782e-03,  1.00000000e+00,  4.46484310e-02,\n",
            "               4.11141505e-01,  6.89452591e-02,  4.08306814e-01,\n",
            "               2.15272445e-02,  3.05671551e-02,  5.45065475e-03,\n",
            "              -1.04881636e-01, -5.77150459e-02, -5.33558913e-02,\n",
            "              -1.46710822e-01],\n",
            "             [-1.64898072e-02,  4.46484310e-02,  1.00000000e+00,\n",
            "               5.26534903e-02,  3.65743398e-02, -3.45920157e-02,\n",
            "              -3.15452062e-04, -5.94370103e-02,  1.55767708e-02,\n",
            "              -3.16544139e-01, -7.14525414e-02, -4.84331521e-02,\n",
            "              -7.72244909e-02],\n",
            "             [-1.40359718e-02,  4.11141505e-01,  5.26534903e-02,\n",
            "               1.00000000e+00,  1.13957423e-01,  5.53330985e-01,\n",
            "               4.87428342e-02, -2.35690354e-01,  1.81573346e-02,\n",
            "              -1.10252056e-01, -5.75760515e-02, -5.83714352e-02,\n",
            "              -2.27606955e-01],\n",
            "             [ 3.20363191e-02,  6.89452591e-02,  3.65743398e-02,\n",
            "               1.13957423e-01,  1.00000000e+00,  6.78329360e-02,\n",
            "               2.17231893e-01, -3.99993172e-02,  4.88296652e-04,\n",
            "              -3.97480575e-02, -7.98963238e-03, -1.71919867e-02,\n",
            "              -3.31151352e-02],\n",
            "             [-4.02192490e-02,  4.08306814e-01, -3.45920157e-02,\n",
            "               5.53330985e-01,  6.78329360e-02,  1.00000000e+00,\n",
            "               1.20361712e-02, -8.88317445e-02, -2.68816830e-02,\n",
            "              -1.22558872e-02, -4.84768257e-02, -4.55724118e-02,\n",
            "              -2.29311659e-01],\n",
            "             [ 8.29989518e-02,  2.15272445e-02, -3.15452062e-04,\n",
            "               4.87428342e-02,  2.17231893e-01,  1.20361712e-02,\n",
            "               1.00000000e+00,  5.05604593e-05,  2.20378498e-02,\n",
            "              -2.88265553e-02, -7.87356008e-03, -3.89426701e-03,\n",
            "              -3.36395005e-03],\n",
            "             [ 7.61126901e-02,  3.05671551e-02, -5.94370103e-02,\n",
            "              -2.35690354e-01, -3.99993172e-02, -8.88317445e-02,\n",
            "               5.05604593e-05,  1.00000000e+00, -7.66461986e-02,\n",
            "               3.65268434e-02,  7.76743857e-02,  5.77747860e-02,\n",
            "               6.87557432e-02],\n",
            "             [ 3.44797621e-02,  5.45065475e-03,  1.55767708e-02,\n",
            "               1.81573346e-02,  4.88296652e-04, -2.68816830e-02,\n",
            "               2.20378498e-02, -7.66461986e-02,  1.00000000e+00,\n",
            "              -4.31591683e-02,  4.36742916e-04, -1.02589747e-02,\n",
            "              -1.87699744e-02],\n",
            "             [-1.70080159e-01, -1.04881636e-01, -3.16544139e-01,\n",
            "              -1.10252056e-01, -3.97480575e-02, -1.22558872e-02,\n",
            "              -2.88265553e-02,  3.65268434e-02, -4.31591683e-02,\n",
            "               1.00000000e+00,  1.22627407e-01,  7.99321456e-02,\n",
            "               1.48126899e-01],\n",
            "             [ 5.92854586e-02, -5.77150459e-02, -7.14525414e-02,\n",
            "              -5.75760515e-02, -7.98963238e-03, -4.84768257e-02,\n",
            "              -7.87356008e-03,  7.76743857e-02,  4.36742916e-04,\n",
            "               1.22627407e-01,  1.00000000e+00, -3.16141086e-02,\n",
            "               7.84088050e-02],\n",
            "             [ 2.19370853e-02, -5.33558913e-02, -4.84331521e-02,\n",
            "              -5.83714352e-02, -1.71919867e-02, -4.55724118e-02,\n",
            "              -3.89426701e-03,  5.77747860e-02, -1.02589747e-02,\n",
            "               7.99321456e-02, -3.16141086e-02,  1.00000000e+00,\n",
            "               5.42561667e-02],\n",
            "             [-7.92968005e-03, -1.46710822e-01, -7.72244909e-02,\n",
            "              -2.27606955e-01, -3.31151352e-02, -2.29311659e-01,\n",
            "              -3.36395005e-03,  6.87557432e-02, -1.87699744e-02,\n",
            "               1.48126899e-01,  7.84088050e-02,  5.42561667e-02,\n",
            "               1.00000000e+00]])\n"
          ]
        }
      ]
    },
    {
      "cell_type": "code",
      "source": [
        "r2 = Correlation.corr(vector, \"features\", \"spearman\").head()"
      ],
      "metadata": {
        "id": "e7ixPEFJgVrI"
      },
      "execution_count": null,
      "outputs": []
    },
    {
      "cell_type": "code",
      "source": [
        "print(\"Spearman correlation matrix:\\n\" + str(r2[0]))"
      ],
      "metadata": {
        "colab": {
          "base_uri": "https://localhost:8080/"
        },
        "id": "G9Lma8hWgpUr",
        "outputId": "b883c83e-1fd9-46ee-d294-79d7fe07f347"
      },
      "execution_count": null,
      "outputs": [
        {
          "output_type": "stream",
          "name": "stdout",
          "text": [
            "Spearman correlation matrix:\n",
            "DenseMatrix([[ 1.        , -0.03810954, -0.12668817, -0.0365897 , -0.0013781 ,\n",
            "              -0.02272837,  0.12222815,  0.04408941,  0.0131838 ,  0.29282209,\n",
            "               0.05706276,  0.03123954,  0.01966969],\n",
            "             [-0.03810954,  1.        ,  0.07998075,  0.66129197,  0.10053435,\n",
            "               0.45472477, -0.00328774, -0.15117104,  0.01539424, -0.09460986,\n",
            "              -0.11162906, -0.06780698, -0.20603001],\n",
            "             [-0.12668817,  0.07998075,  1.        ,  0.09577575,  0.06332943,\n",
            "               0.00218237,  0.01937029, -0.10199891,  0.01460209, -0.35488984,\n",
            "              -0.07996246, -0.05485479, -0.13256778],\n",
            "             [-0.0365897 ,  0.66129197,  0.09577575,  1.        ,  0.14297465,\n",
            "               0.6029828 ,  0.03757128, -0.32093609,  0.01910783, -0.10718362,\n",
            "              -0.10159153, -0.068143  , -0.29835   ],\n",
            "             [-0.0013781 ,  0.10053435,  0.06332943,  0.14297465,  1.        ,\n",
            "               0.0992671 ,  0.22341099, -0.03031543,  0.03623262, -0.04766043,\n",
            "              -0.0286342 , -0.01964028, -0.07551797],\n",
            "             [-0.02272837,  0.45472477,  0.00218237,  0.6029828 ,  0.0992671 ,\n",
            "               1.        , -0.00505822, -0.10037152, -0.0251079 , -0.00625598,\n",
            "              -0.06658939, -0.04215942, -0.26494457],\n",
            "             [ 0.12222815, -0.00328774,  0.01937029,  0.03757128,  0.22341099,\n",
            "              -0.00505822,  1.        , -0.0116225 ,  0.07370607, -0.04988044,\n",
            "              -0.01474662, -0.00825103, -0.0145491 ],\n",
            "             [ 0.04408941, -0.15117104, -0.10199891, -0.32093609, -0.03031543,\n",
            "              -0.10037152, -0.0116225 ,  1.        , -0.07813748,  0.06633722,\n",
            "               0.12494981,  0.05848502,  0.14290964],\n",
            "             [ 0.0131838 ,  0.01539424,  0.01460209,  0.01910783,  0.03623262,\n",
            "              -0.0251079 ,  0.07370607, -0.07813748,  1.        , -0.03566044,\n",
            "              -0.00591693, -0.00692324, -0.02162589],\n",
            "             [ 0.29282209, -0.09460986, -0.35488984, -0.10718362, -0.04766043,\n",
            "              -0.00625598, -0.04988044,  0.06633722, -0.03566044,  1.        ,\n",
            "               0.11904559,  0.07475741,  0.16722091],\n",
            "             [ 0.05706276, -0.11162906, -0.07996246, -0.10159153, -0.0286342 ,\n",
            "              -0.06658939, -0.01474662,  0.12494981, -0.00591693,  0.11904559,\n",
            "               1.        , -0.06655831,  0.09334429],\n",
            "             [ 0.03123954, -0.06780698, -0.05485479, -0.068143  , -0.01964028,\n",
            "              -0.04215942, -0.00825103,  0.05848502, -0.00692324,  0.07475741,\n",
            "              -0.06655831,  1.        ,  0.05985181],\n",
            "             [ 0.01966969, -0.20603001, -0.13256778, -0.29835   , -0.07551797,\n",
            "              -0.26494457, -0.0145491 ,  0.14290964, -0.02162589,  0.16722091,\n",
            "               0.09334429,  0.05985181,  1.        ]])\n"
          ]
        }
      ]
    },
    {
      "cell_type": "code",
      "source": [
        "from pyspark.ml.classification import NaiveBayes\n",
        "from pyspark.ml.evaluation import MulticlassClassificationEvaluator\n"
      ],
      "metadata": {
        "id": "G9nggAe_gy6W"
      },
      "execution_count": null,
      "outputs": []
    },
    {
      "cell_type": "code",
      "source": [
        "indexer = StringIndexer(inputCol = \"income\", outputCol = \"label\", handleInvalid = \"keep\")\n",
        "data = indexer.fit(vector).transform(vector)\n"
      ],
      "metadata": {
        "id": "eB6e1x6_5eD3"
      },
      "execution_count": null,
      "outputs": []
    },
    {
      "cell_type": "code",
      "source": [
        "nb = NaiveBayes(featuresCol=\"features\",labelCol = 'label',smoothing=1.0, modelType=\"multinomial\")"
      ],
      "metadata": {
        "id": "5om9zVwihmc4"
      },
      "execution_count": null,
      "outputs": []
    },
    {
      "cell_type": "code",
      "source": [
        "splits = data.randomSplit([0.6, 0.4], 1234)\n",
        "train = splits[0]\n",
        "test = splits[1]"
      ],
      "metadata": {
        "id": "ut5MPoVviPna"
      },
      "execution_count": null,
      "outputs": []
    },
    {
      "cell_type": "code",
      "source": [
        "nb = NaiveBayes(featuresCol=\"features\",labelCol = 'label',smoothing=1.0, modelType=\"multinomial\")"
      ],
      "metadata": {
        "id": "fJvB0MkQm2IH"
      },
      "execution_count": null,
      "outputs": []
    },
    {
      "cell_type": "code",
      "source": [
        "model = nb.fit(train)\n",
        "\n"
      ],
      "metadata": {
        "id": "4qs2kH1tiW6L"
      },
      "execution_count": null,
      "outputs": []
    },
    {
      "cell_type": "code",
      "source": [
        "# select example rows to display.\n",
        "predictions = model.transform(test)\n",
        "predictions.show()"
      ],
      "metadata": {
        "colab": {
          "base_uri": "https://localhost:8080/"
        },
        "id": "-uFaBNz3nGte",
        "outputId": "2647fdc5-a371-4f4a-dac7-4e97f18814d7"
      },
      "execution_count": null,
      "outputs": [
        {
          "output_type": "stream",
          "name": "stdout",
          "text": [
            "+---+---------+--------+---------+-------+--------------+----------+---------------+------+-------+----+----+---------+--------------+------+---------------+-------------+----------------+--------------+----------+------------+-------------+--------------------+-----+--------------------+--------------------+----------+\n",
            "|age|workclass|  fnlwgt|education|numbers|       marital|occupation|       relation|  race| gender|gain|loss|hourlypay|       country|income|education_index|marital_index|occupation_index|relation_index|race_index|gender_index|country_index|            features|label|       rawPrediction|         probability|prediction|\n",
            "+---+---------+--------+---------+-------+--------------+----------+---------------+------+-------+----+----+---------+--------------+------+---------------+-------------+----------------+--------------+----------+------------+-------------+--------------------+-----+--------------------+--------------------+----------+\n",
            "| 17|        ?| 34019.0|     10th|    6.0| Never-married|         ?|      Own-child| White|   Male| 0.0| 0.0|       20| United-States| <=50K|            7.0|          1.0|             7.0|           2.0|       0.0|         0.0|          0.0|[7.0,1.0,7.0,2.0,...|  0.0|[-617.09980236678...|[1.0,3.3499513630...|       0.0|\n",
            "| 17|        ?| 34088.0|     12th|    8.0| Never-married|         ?|      Own-child| White| Female| 0.0| 0.0|       25| United-States| <=50K|           11.0|          1.0|             7.0|           2.0|       0.0|         1.0|          0.0|[11.0,1.0,7.0,2.0...|  0.0|[-737.75055708512...|[1.0,1.4015797658...|       0.0|\n",
            "| 17|        ?| 48703.0|     11th|    7.0| Never-married|         ?|      Own-child| White| Female| 0.0| 0.0|       30| United-States| <=50K|            5.0|          1.0|             7.0|           2.0|       0.0|         1.0|          0.0|[5.0,1.0,7.0,2.0,...|  0.0|[-725.25657990259...|           [1.0,0.0]|       0.0|\n",
            "| 17|        ?| 86786.0|     10th|    6.0| Never-married|         ?|      Own-child| White| Female| 0.0| 0.0|       40| United-States| <=50K|            7.0|          1.0|             7.0|           2.0|       0.0|         1.0|          0.0|[7.0,1.0,7.0,2.0,...|  0.0|[-881.88376689404...|           [1.0,0.0]|       0.0|\n",
            "| 17|        ?|104025.0|     11th|    7.0| Never-married|         ?|      Own-child| White|   Male| 0.0| 0.0|       18| United-States| <=50K|            5.0|          1.0|             7.0|           2.0|       0.0|         0.0|          0.0|[5.0,1.0,7.0,2.0,...|  0.0|[-695.80046075219...|           [1.0,0.0]|       0.0|\n",
            "| 17|        ?|112942.0|     10th|    6.0| Never-married|         ?|      Own-child| White|   Male| 0.0| 0.0|       40| United-States| <=50K|            7.0|          1.0|             7.0|           2.0|       0.0|         0.0|          0.0|[7.0,1.0,7.0,2.0,...|  0.0|[-909.27276385677...|           [1.0,0.0]|       0.0|\n",
            "| 17|        ?|145258.0|     11th|    7.0| Never-married|         ?| Other-relative| White| Female| 0.0| 0.0|       25| United-States| <=50K|            5.0|          1.0|             7.0|           5.0|       0.0|         1.0|          0.0|[5.0,1.0,7.0,5.0,...|  0.0|[-867.66293616845...|           [1.0,0.0]|       0.0|\n",
            "| 17|        ?|151141.0|     10th|    6.0| Never-married|         ?|      Own-child| White|   Male| 0.0| 0.0|       30| United-States| <=50K|            7.0|          1.0|             7.0|           2.0|       0.0|         0.0|          0.0|[7.0,1.0,7.0,2.0,...|  0.0|[-883.41083709090...|           [1.0,0.0]|       0.0|\n",
            "| 17|        ?|158762.0|     10th|    6.0| Never-married|         ?|      Own-child| White| Female| 0.0| 0.0|       20| United-States| <=50K|            7.0|          1.0|             7.0|           2.0|       0.0|         1.0|          0.0|[7.0,1.0,7.0,2.0,...|  0.0|[-823.31431002862...|           [1.0,0.0]|       0.0|\n",
            "| 17|        ?|161259.0|     10th|    6.0| Never-married|         ?| Other-relative| White|   Male| 0.0| 0.0|       12| United-States| <=50K|            7.0|          1.0|             7.0|           5.0|       0.0|         0.0|          0.0|[7.0,1.0,7.0,5.0,...|  0.0|[-781.50985508754...|           [1.0,0.0]|       0.0|\n",
            "| 17|        ?|161981.0|     10th|    6.0| Never-married|         ?|      Own-child| White|   Male| 0.0| 0.0|       40| United-States| <=50K|            7.0|          1.0|             7.0|           2.0|       0.0|         0.0|          0.0|[7.0,1.0,7.0,2.0,...|  0.0|[-985.18898771037...|           [1.0,0.0]|       0.0|\n",
            "| 17|        ?|170320.0|     11th|    7.0| Never-married|         ?|      Own-child| White| Female| 0.0| 0.0|        8| United-States| <=50K|            5.0|          1.0|             7.0|           2.0|       0.0|         1.0|          0.0|[5.0,1.0,7.0,2.0,...|  0.0|[-726.53589434135...|           [1.0,0.0]|       0.0|\n",
            "| 17|        ?|172145.0|     10th|    6.0| Never-married|         ?|      Own-child| Black| Female| 0.0| 0.0|       40| United-States| <=50K|            7.0|          1.0|             7.0|           2.0|       1.0|         1.0|          0.0|[7.0,1.0,7.0,2.0,...|  0.0|[-1027.5767055411...|           [1.0,0.0]|       0.0|\n",
            "| 17|        ?|179715.0|     10th|    6.0| Never-married|         ?|      Own-child| White|   Male| 0.0| 0.0|       40| United-States| <=50K|            7.0|          1.0|             7.0|           2.0|       0.0|         0.0|          0.0|[7.0,1.0,7.0,2.0,...|  0.0|[-1012.6426126582...|           [1.0,0.0]|       0.0|\n",
            "| 17|        ?|181337.0|     10th|    6.0| Never-married|         ?|      Own-child| Other| Female| 0.0| 0.0|       20| United-States| <=50K|            7.0|          1.0|             7.0|           2.0|       4.0|         1.0|          0.0|[7.0,1.0,7.0,2.0,...|  0.0|[-912.46419112502...|           [1.0,0.0]|       0.0|\n",
            "| 17|        ?|187539.0|     11th|    7.0| Never-married|         ?|      Own-child| White| Female| 0.0| 0.0|       10| United-States| <=50K|            5.0|          1.0|             7.0|           2.0|       0.0|         1.0|          0.0|[5.0,1.0,7.0,2.0,...|  0.0|[-770.19165467223...|           [1.0,0.0]|       0.0|\n",
            "| 17|        ?|202521.0|     11th|    7.0| Never-married|         ?|      Own-child| White|   Male| 0.0| 0.0|       40| United-States| <=50K|            5.0|          1.0|             7.0|           2.0|       0.0|         0.0|          0.0|[5.0,1.0,7.0,2.0,...|  0.0|[-1035.2733594720...|           [1.0,0.0]|       0.0|\n",
            "| 17|        ?|213055.0|     11th|    7.0| Never-married|         ?|  Not-in-family| Other| Female| 0.0| 0.0|       20| United-States| <=50K|            5.0|          1.0|             7.0|           1.0|       4.0|         1.0|          0.0|[5.0,1.0,7.0,1.0,...|  0.0|[-937.08137335681...|           [1.0,0.0]|       0.0|\n",
            "| 17|        ?|216595.0|     11th|    7.0| Never-married|         ?|      Own-child| Black| Female| 0.0| 0.0|       20| United-States| <=50K|            5.0|          1.0|             7.0|           2.0|       1.0|         1.0|          0.0|[5.0,1.0,7.0,2.0,...|  0.0|[-913.72010607505...|           [1.0,0.0]|       0.0|\n",
            "| 17|        ?|241021.0|     12th|    8.0| Never-married|         ?|      Own-child| Other| Female| 0.0| 0.0|       40| United-States| <=50K|           11.0|          1.0|             7.0|           2.0|       4.0|         1.0|          0.0|[11.0,1.0,7.0,2.0...|  0.0|[-1239.7965716606...|           [1.0,0.0]|       0.0|\n",
            "+---+---------+--------+---------+-------+--------------+----------+---------------+------+-------+----+----+---------+--------------+------+---------------+-------------+----------------+--------------+----------+------------+-------------+--------------------+-----+--------------------+--------------------+----------+\n",
            "only showing top 20 rows\n",
            "\n"
          ]
        }
      ]
    },
    {
      "cell_type": "code",
      "source": [
        "# compute accuracy on the test set\n",
        "evaluator = MulticlassClassificationEvaluator(labelCol=\"label\", predictionCol=\"prediction\",\n",
        "                                              metricName=\"accuracy\")\n",
        "accuracy = evaluator.evaluate(predictions)\n",
        "print(\"Test set accuracy = \" + str(accuracy))"
      ],
      "metadata": {
        "colab": {
          "base_uri": "https://localhost:8080/"
        },
        "id": "Kr6KlKe_nHGi",
        "outputId": "c3eea35c-2a3c-477e-b98a-ed3b980296c6"
      },
      "execution_count": null,
      "outputs": [
        {
          "output_type": "stream",
          "name": "stdout",
          "text": [
            "Test set accuracy = 0.7855888863445538\n"
          ]
        }
      ]
    },
    {
      "cell_type": "markdown",
      "source": [
        "# Now We are Going to Implement Decision Tree Model"
      ],
      "metadata": {
        "id": "8c1HLZQQ3-7P"
      }
    },
    {
      "cell_type": "code",
      "source": [
        "from pyspark.ml.classification import DecisionTreeClassifier"
      ],
      "metadata": {
        "id": "omfnZ9m0nO-s"
      },
      "execution_count": null,
      "outputs": []
    },
    {
      "cell_type": "code",
      "source": [
        "dt = DecisionTreeClassifier(labelCol=\"label\", featuresCol=\"features\", maxBins=45, maxDepth= 8,impurity= \"Entropy\")  # Set maxBins to at least 43\n",
        "model = dt.fit(train)"
      ],
      "metadata": {
        "id": "TK4ZJPSX4Xz0"
      },
      "execution_count": null,
      "outputs": []
    },
    {
      "cell_type": "code",
      "source": [
        "predictions = model.transform(test)"
      ],
      "metadata": {
        "id": "BIdjslup7DpX"
      },
      "execution_count": null,
      "outputs": []
    },
    {
      "cell_type": "code",
      "source": [
        "# Select example rows to display.\n",
        "predictions.select(\"prediction\", \"label\", \"features\").show(5)"
      ],
      "metadata": {
        "colab": {
          "base_uri": "https://localhost:8080/"
        },
        "id": "LJdekIKk9akX",
        "outputId": "7c8d8a59-c393-45d4-dc2a-4b795e5c73b1"
      },
      "execution_count": null,
      "outputs": [
        {
          "output_type": "stream",
          "name": "stdout",
          "text": [
            "+----------+-----+--------------------+\n",
            "|prediction|label|            features|\n",
            "+----------+-----+--------------------+\n",
            "|       0.0|  0.0|[7.0,1.0,7.0,2.0,...|\n",
            "|       0.0|  0.0|[11.0,1.0,7.0,2.0...|\n",
            "|       0.0|  0.0|[5.0,1.0,7.0,2.0,...|\n",
            "|       0.0|  0.0|[7.0,1.0,7.0,2.0,...|\n",
            "|       0.0|  0.0|[5.0,1.0,7.0,2.0,...|\n",
            "+----------+-----+--------------------+\n",
            "only showing top 5 rows\n",
            "\n"
          ]
        }
      ]
    },
    {
      "cell_type": "code",
      "source": [
        "# Select (prediction, true label) and compute test error\n",
        "\n",
        "evaluator = MulticlassClassificationEvaluator(\n",
        "    labelCol=\"label\", predictionCol=\"prediction\", metricName=\"accuracy\")\n",
        "accuracy = evaluator.evaluate(predictions)\n",
        "print(\"Accuracy = %g\" % (accuracy))\n",
        "print(\"Test Error = %g \" % (1.0 - accuracy))"
      ],
      "metadata": {
        "colab": {
          "base_uri": "https://localhost:8080/"
        },
        "id": "B1L32Fgi9kO-",
        "outputId": "e7543c2f-3de2-4acb-a2c0-65df06b8df51"
      },
      "execution_count": null,
      "outputs": [
        {
          "output_type": "stream",
          "name": "stdout",
          "text": [
            "Accuracy = 0.84879\n",
            "Test Error = 0.15121 \n"
          ]
        }
      ]
    },
    {
      "cell_type": "code",
      "source": [
        "print(model)"
      ],
      "metadata": {
        "colab": {
          "base_uri": "https://localhost:8080/"
        },
        "id": "yJNUcxny9sqF",
        "outputId": "425e6305-5407-4c1d-8437-7b21861eca85"
      },
      "execution_count": null,
      "outputs": [
        {
          "output_type": "stream",
          "name": "stdout",
          "text": [
            "DecisionTreeClassificationModel: uid=DecisionTreeClassifier_3ab2fded754a, depth=8, numNodes=199, numClasses=3, numFeatures=13\n"
          ]
        }
      ]
    },
    {
      "cell_type": "code",
      "source": [],
      "metadata": {
        "id": "tuwp_EaS9xNQ"
      },
      "execution_count": null,
      "outputs": []
    },
    {
      "cell_type": "markdown",
      "source": [
        "#Now we Are Going to Implementing Random Forest"
      ],
      "metadata": {
        "id": "oESnOgdQu9qG"
      }
    },
    {
      "cell_type": "code",
      "source": [
        "splits = data.randomSplit([0.6, 0.4], 1234)\n",
        "train = splits[0]\n",
        "test = splits[1]"
      ],
      "metadata": {
        "id": "p1ELTLbSvFuc"
      },
      "execution_count": null,
      "outputs": []
    },
    {
      "cell_type": "code",
      "source": [
        "from pyspark.ml.classification import RandomForestClassifier\n"
      ],
      "metadata": {
        "id": "ak0Z-FmDvOrJ"
      },
      "execution_count": null,
      "outputs": []
    },
    {
      "cell_type": "code",
      "source": [
        "rf = RandomForestClassifier(labelCol = 'label', featuresCol = 'features', numTrees = 1000, maxDepth = 10, maxBins = 45)"
      ],
      "metadata": {
        "id": "N7pjIDFwvR_7"
      },
      "execution_count": null,
      "outputs": []
    },
    {
      "cell_type": "code",
      "source": [
        "model = rf.fit(train)"
      ],
      "metadata": {
        "id": "9mhyBXqlvdCN"
      },
      "execution_count": null,
      "outputs": []
    },
    {
      "cell_type": "code",
      "source": [
        "predictions = model.transform(test)"
      ],
      "metadata": {
        "id": "fLrrlmGevgPE"
      },
      "execution_count": null,
      "outputs": []
    },
    {
      "cell_type": "code",
      "source": [
        "evaluator = MulticlassClassificationEvaluator(labelCol = \"label\", predictionCol = \"prediction\", metricName = \"accuracy\")\n",
        "accuracy = evaluator.evaluate(predictions)\n",
        "print(\"Accuracy = %g\" % (accuracy))\n",
        "print(\"Test Error = %g \" % (1.0 - accuracy))"
      ],
      "metadata": {
        "colab": {
          "base_uri": "https://localhost:8080/"
        },
        "id": "pWACcSSnvzoJ",
        "outputId": "1e7c84e3-b658-427f-af97-8383073215b3"
      },
      "execution_count": null,
      "outputs": [
        {
          "output_type": "stream",
          "name": "stdout",
          "text": [
            "Accuracy = 0.861385\n",
            "Test Error = 0.138615 \n"
          ]
        }
      ]
    },
    {
      "cell_type": "code",
      "source": [
        "  from pyspark.ml.classification import GBTClassifier\n",
        "  gbt = GBTClassifier(labelCol=\"label\", featuresCol=\"features\", maxIter=25, maxBins= 45, maxDepth=15)\n",
        "  model = gbt.fit(train)"
      ],
      "metadata": {
        "id": "QZ7VE-EiwCwV"
      },
      "execution_count": null,
      "outputs": []
    },
    {
      "cell_type": "code",
      "source": [
        "predictions = model.transform(test)"
      ],
      "metadata": {
        "id": "rNJtDXgJw3Ru"
      },
      "execution_count": null,
      "outputs": []
    },
    {
      "cell_type": "code",
      "source": [
        "evaluator = MulticlassClassificationEvaluator(labelCol = \"label\", predictionCol = \"prediction\", metricName = \"accuracy\")\n",
        "accuracy = evaluator.evaluate(predictions)\n",
        "print(\"Accuracy = %g\" % (accuracy))\n",
        "print(\"Test Error = %g \" % (1.0 - accuracy))"
      ],
      "metadata": {
        "colab": {
          "base_uri": "https://localhost:8080/"
        },
        "id": "1xi7En1ixS6T",
        "outputId": "f601b2e4-abf7-41d2-bf09-5a16eff47ac9"
      },
      "execution_count": null,
      "outputs": [
        {
          "output_type": "stream",
          "name": "stdout",
          "text": [
            "Accuracy = 0.815663\n",
            "Test Error = 0.184337 \n"
          ]
        }
      ]
    },
    {
      "cell_type": "code",
      "source": [
        "from xgboost.spark import SparkXGBClassifier"
      ],
      "metadata": {
        "id": "1B37Wt7MxVNI"
      },
      "execution_count": null,
      "outputs": []
    },
    {
      "cell_type": "code",
      "source": [
        "spark_class_estimator = SparkXGBClassifier(\n",
        "    features_col=\"features\",\n",
        "    label_col=\"label\",\n",
        "    num_workers = 2,\n",
        ")"
      ],
      "metadata": {
        "id": "JELXQpEaxc8F"
      },
      "execution_count": null,
      "outputs": []
    },
    {
      "cell_type": "code",
      "source": [
        "model = spark_class_estimator.fit(train)\n",
        "predictions = model.transform(test)\n",
        "\n",
        "evaluator = MulticlassClassificationEvaluator(labelCol = \"label\", predictionCol = \"prediction\", metricName = \"accuracy\")\n",
        "accuracy = evaluator.evaluate(predictions)\n",
        "print(\"Accuracy = %g\" % (accuracy))\n",
        "print(\"Test Error = %g \" % (1.0 - accuracy))"
      ],
      "metadata": {
        "colab": {
          "base_uri": "https://localhost:8080/"
        },
        "id": "yvFvTvLfxtjl",
        "outputId": "771d5c2b-8896-46b0-ef26-ca1de9b5e324"
      },
      "execution_count": null,
      "outputs": [
        {
          "output_type": "stream",
          "name": "stderr",
          "text": [
            "INFO:XGBoost-PySpark:Running xgboost-2.1.1 on 2 workers with\n",
            "\tbooster params: {'objective': 'binary:logistic', 'device': 'cpu', 'nthread': 1}\n",
            "\ttrain_call_kwargs_params: {'verbose_eval': True, 'num_boost_round': 100}\n",
            "\tdmatrix_kwargs: {'nthread': 1, 'missing': nan}\n",
            "INFO:XGBoost-PySpark:Finished xgboost training!\n"
          ]
        },
        {
          "output_type": "stream",
          "name": "stdout",
          "text": [
            "Accuracy = 0.863904\n",
            "Test Error = 0.136096 \n"
          ]
        }
      ]
    },
    {
      "cell_type": "markdown",
      "source": [
        "## We Apply Now MultiLayer Perceptron"
      ],
      "metadata": {
        "id": "Mhv2WkZdyB9_"
      }
    },
    {
      "cell_type": "code",
      "source": [
        "from pyspark.ml.classification import MultilayerPerceptronClassifier\n",
        "from pyspark.ml.evaluation import MulticlassClassificationEvaluator"
      ],
      "metadata": {
        "id": "3r6pQnOVGBJG"
      },
      "execution_count": 79,
      "outputs": []
    },
    {
      "cell_type": "code",
      "source": [
        "layers = [13, 18, 15,12, 2]"
      ],
      "metadata": {
        "id": "AJ132YyDGHSx"
      },
      "execution_count": 92,
      "outputs": []
    },
    {
      "cell_type": "code",
      "source": [
        "\n",
        "trainer = MultilayerPerceptronClassifier(featuresCol = \"features\", labelCol = \"label\",maxIter=100, layers=layers, blockSize=128, seed=1234)"
      ],
      "metadata": {
        "id": "3OWzwKIlGPQO"
      },
      "execution_count": 93,
      "outputs": []
    },
    {
      "cell_type": "code",
      "source": [
        "model = trainer.fit(train)\n",
        "predictions = model.transform(test)\n",
        "\n",
        "evaluator = MulticlassClassificationEvaluator(labelCol = \"label\", predictionCol = \"prediction\", metricName = \"accuracy\")\n",
        "accuracy = evaluator.evaluate(predictions)\n",
        "print(\"Accuracy = %g\" % (accuracy))\n",
        "print(\"Test Error = %g \" % (1.0 - accuracy))"
      ],
      "metadata": {
        "colab": {
          "base_uri": "https://localhost:8080/"
        },
        "id": "82WBQ5cFNyBY",
        "outputId": "6c1547cc-e555-4d0f-e1dc-671033309852"
      },
      "execution_count": 94,
      "outputs": [
        {
          "output_type": "stream",
          "name": "stdout",
          "text": [
            "Accuracy = 0.778032\n",
            "Test Error = 0.221968 \n"
          ]
        }
      ]
    },
    {
      "cell_type": "code",
      "source": [],
      "metadata": {
        "id": "b6F4NIJbN7U0"
      },
      "execution_count": 94,
      "outputs": []
    }
  ]
}